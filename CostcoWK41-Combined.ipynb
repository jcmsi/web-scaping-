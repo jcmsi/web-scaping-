{
 "cells": [
  {
   "cell_type": "markdown",
   "id": "2519d031-74b9-4ef5-a188-41cbec9e504d",
   "metadata": {},
   "source": [
    "source: https://www.youtube.com/watch?v=1PCWwK0AsE0&list=PLRzwgpycm-FiTz9bGQoITAzFEOJkbF6Qp&index=1 "
   ]
  },
  {
   "cell_type": "markdown",
   "id": "857467dd-8a59-4a95-b109-d1fb1d152a0f",
   "metadata": {},
   "source": [
    "Wk37 9/9/24 - 9/13/24"
   ]
  },
  {
   "cell_type": "markdown",
   "id": "a5f28b61-2169-4361-a09a-d79a66474343",
   "metadata": {},
   "source": [
    "# Costco Competitive Analysis \n",
    "\n",
    "Core Ultra\n",
    "DT\n",
    "GM\n",
    "NB"
   ]
  },
  {
   "cell_type": "code",
   "execution_count": 1,
   "id": "7bbc4e63-0b2c-4f39-9c4f-aef9c8c35031",
   "metadata": {},
   "outputs": [],
   "source": [
    "import httpx\n",
    "from selectolax.parser import HTMLParser\n",
    "import pandas as pd\n",
    "from urllib.parse import urljoin"
   ]
  },
  {
   "cell_type": "code",
   "execution_count": null,
   "id": "cc4e156e-3260-46e8-8633-17e9d3608367",
   "metadata": {},
   "outputs": [],
   "source": []
  },
  {
   "cell_type": "code",
   "execution_count": null,
   "id": "bc25d0b3-b7fe-4d18-9ce0-b3ff7150dcb2",
   "metadata": {},
   "outputs": [],
   "source": []
  },
  {
   "cell_type": "markdown",
   "id": "e9e29d4c-f2f7-4b56-a0b8-7c67ba5107ff",
   "metadata": {},
   "source": [
    "## Core Ultra"
   ]
  },
  {
   "cell_type": "code",
   "execution_count": 2,
   "id": "3ccd3285-0ccc-453e-bf1c-48f9cba8a69e",
   "metadata": {},
   "outputs": [],
   "source": [
    "url = \"https://www.costco.com/laptops.html?processor=intel-core-ultra-9+intel-core-ultra-7&deliveryFacetFlag=false&refine=%7C%7CProcessor_attr-Intel%2BCore%2BUltra%2B9||Processor_attr-Intel%2BCore%2BUltra%2B7\""
   ]
  },
  {
   "cell_type": "code",
   "execution_count": 3,
   "id": "33010bc0-e923-44e2-8d18-cfd634746b31",
   "metadata": {},
   "outputs": [],
   "source": [
    "headers = {'User-Agent': 'Mozilla/5.0 (Windows NT 10.0; Win64; x64) AppleWebKit/537.36 (KHTML, like Gecko) Chrome/127.0.0.0 Safari/537.36 Edg/127.0.0.0'}"
   ]
  },
  {
   "cell_type": "code",
   "execution_count": 4,
   "id": "caba88d7-fa30-48d7-9c7e-bc450820095a",
   "metadata": {},
   "outputs": [
    {
     "name": "stdout",
     "output_type": "stream",
     "text": [
      "<Response [200 OK]>\n"
     ]
    }
   ],
   "source": [
    "resp = httpx.get(url,headers=headers)\n",
    "print(resp)"
   ]
  },
  {
   "cell_type": "code",
   "execution_count": 5,
   "id": "f4701ac0-908c-4db4-9149-1e4ad98dd9e1",
   "metadata": {},
   "outputs": [],
   "source": [
    "def extract_text(html,sel):\n",
    "    try: \n",
    "        return html.css_first(sel).text()\n",
    "    except AtrributeError:\n",
    "        return None"
   ]
  },
  {
   "cell_type": "code",
   "execution_count": 6,
   "id": "d414831b-1225-4da7-9f44-4d474fbb83cd",
   "metadata": {},
   "outputs": [
    {
     "name": "stdout",
     "output_type": "stream",
     "text": [
      "<built-in method text of selectolax.parser.Node object at 0x0000027167644800>\n"
     ]
    }
   ],
   "source": [
    "html = HTMLParser(resp.text)\n",
    "print(html.css_first(\"title\").text)"
   ]
  },
  {
   "cell_type": "code",
   "execution_count": 7,
   "id": "9d88cba4-3563-4465-b20a-f57b38c0f51a",
   "metadata": {},
   "outputs": [
    {
     "name": "stdout",
     "output_type": "stream",
     "text": [
      "[<Node div>, <Node div>, <Node div>, <Node div>, <Node div>, <Node div>, <Node div>, <Node div>, <Node div>, <Node div>, <Node div>, <Node div>, <Node div>, <Node div>, <Node div>, <Node div>, <Node div>, <Node div>, <Node div>]\n"
     ]
    }
   ],
   "source": [
    "products = html.css(\"div.thumbnail\")\n",
    "print(products)"
   ]
  },
  {
   "cell_type": "code",
   "execution_count": 8,
   "id": "2f58fd9b-0342-4629-922a-5a6e5b1a6648",
   "metadata": {
    "scrolled": true
   },
   "outputs": [
    {
     "name": "stdout",
     "output_type": "stream",
     "text": [
      "[{'name': 'Acer Swift Go 16” Touchscreen Laptop – Intel Core Ultra 9-185H Processor – 1200p – Windows 11', 'price': '$749.99', 'rating': '(96)'}]\n",
      "[{'name': 'Acer Swift Go 16” Touchscreen Laptop – Intel Core Ultra 9-185H Processor – 1200p – Windows 11', 'price': '$749.99', 'rating': '(96)'}, {'name': 'LG gram 17\" Touchscreen Intel EVO Edition Laptop - Intel Core Ultra 7-155H - WQXGA (2560 X 1600) - Windows 11', 'price': '$1,399.99', 'rating': '(105)'}]\n",
      "[{'name': 'Acer Swift Go 16” Touchscreen Laptop – Intel Core Ultra 9-185H Processor – 1200p – Windows 11', 'price': '$749.99', 'rating': '(96)'}, {'name': 'LG gram 17\" Touchscreen Intel EVO Edition Laptop - Intel Core Ultra 7-155H - WQXGA (2560 X 1600) - Windows 11', 'price': '$1,399.99', 'rating': '(105)'}, {'name': 'HP Pavilion 16\" Touchscreen Laptop - Intel Core Ultra 7-155U - GeForce MX570 A - Windows 11', 'price': '$1,199.99', 'rating': '(93)'}]\n",
      "[{'name': 'Acer Swift Go 16” Touchscreen Laptop – Intel Core Ultra 9-185H Processor – 1200p – Windows 11', 'price': '$749.99', 'rating': '(96)'}, {'name': 'LG gram 17\" Touchscreen Intel EVO Edition Laptop - Intel Core Ultra 7-155H - WQXGA (2560 X 1600) - Windows 11', 'price': '$1,399.99', 'rating': '(105)'}, {'name': 'HP Pavilion 16\" Touchscreen Laptop - Intel Core Ultra 7-155U - GeForce MX570 A - Windows 11', 'price': '$1,199.99', 'rating': '(93)'}, {'name': 'HP Envy 17.3\" Laptop - Intel Core Ultra 7 Processor 155U - 1080p - GeForce RTX™ 3050 - Windows 11 Home', 'price': '$1,149.99', 'rating': '(48)'}]\n",
      "[{'name': 'Acer Swift Go 16” Touchscreen Laptop – Intel Core Ultra 9-185H Processor – 1200p – Windows 11', 'price': '$749.99', 'rating': '(96)'}, {'name': 'LG gram 17\" Touchscreen Intel EVO Edition Laptop - Intel Core Ultra 7-155H - WQXGA (2560 X 1600) - Windows 11', 'price': '$1,399.99', 'rating': '(105)'}, {'name': 'HP Pavilion 16\" Touchscreen Laptop - Intel Core Ultra 7-155U - GeForce MX570 A - Windows 11', 'price': '$1,199.99', 'rating': '(93)'}, {'name': 'HP Envy 17.3\" Laptop - Intel Core Ultra 7 Processor 155U - 1080p - GeForce RTX™ 3050 - Windows 11 Home', 'price': '$1,149.99', 'rating': '(48)'}, {'name': 'LG gram 14\" 2-in-1 Touchscreen Laptop -  Intel Evo Edition Powered By Intel Core Ultra 7 Processor 155H - (1920x1200) - Windows 11 Home', 'price': '$999.99', 'rating': '(29)'}]\n",
      "[{'name': 'Acer Swift Go 16” Touchscreen Laptop – Intel Core Ultra 9-185H Processor – 1200p – Windows 11', 'price': '$749.99', 'rating': '(96)'}, {'name': 'LG gram 17\" Touchscreen Intel EVO Edition Laptop - Intel Core Ultra 7-155H - WQXGA (2560 X 1600) - Windows 11', 'price': '$1,399.99', 'rating': '(105)'}, {'name': 'HP Pavilion 16\" Touchscreen Laptop - Intel Core Ultra 7-155U - GeForce MX570 A - Windows 11', 'price': '$1,199.99', 'rating': '(93)'}, {'name': 'HP Envy 17.3\" Laptop - Intel Core Ultra 7 Processor 155U - 1080p - GeForce RTX™ 3050 - Windows 11 Home', 'price': '$1,149.99', 'rating': '(48)'}, {'name': 'LG gram 14\" 2-in-1 Touchscreen Laptop -  Intel Evo Edition Powered By Intel Core Ultra 7 Processor 155H - (1920x1200) - Windows 11 Home', 'price': '$999.99', 'rating': '(29)'}, {'name': 'Lenovo Ideapad Slim 7i 14\" Touchscreen Intel Evo Platform Laptop -  Intel Core Ultra 7 Processor 155H - OLED WUXGA (1920 x 1200) - Windows 11', 'price': '$999.99', 'rating': '(52)'}]\n",
      "[{'name': 'Acer Swift Go 16” Touchscreen Laptop – Intel Core Ultra 9-185H Processor – 1200p – Windows 11', 'price': '$749.99', 'rating': '(96)'}, {'name': 'LG gram 17\" Touchscreen Intel EVO Edition Laptop - Intel Core Ultra 7-155H - WQXGA (2560 X 1600) - Windows 11', 'price': '$1,399.99', 'rating': '(105)'}, {'name': 'HP Pavilion 16\" Touchscreen Laptop - Intel Core Ultra 7-155U - GeForce MX570 A - Windows 11', 'price': '$1,199.99', 'rating': '(93)'}, {'name': 'HP Envy 17.3\" Laptop - Intel Core Ultra 7 Processor 155U - 1080p - GeForce RTX™ 3050 - Windows 11 Home', 'price': '$1,149.99', 'rating': '(48)'}, {'name': 'LG gram 14\" 2-in-1 Touchscreen Laptop -  Intel Evo Edition Powered By Intel Core Ultra 7 Processor 155H - (1920x1200) - Windows 11 Home', 'price': '$999.99', 'rating': '(29)'}, {'name': 'Lenovo Ideapad Slim 7i 14\" Touchscreen Intel Evo Platform Laptop -  Intel Core Ultra 7 Processor 155H - OLED WUXGA (1920 x 1200) - Windows 11', 'price': '$999.99', 'rating': '(52)'}, {'name': 'Dell Inspiron Plus 16\" Touchscreen Intel Evo Platform Laptop - Intel Core Ultra 7 Processor 155H - FHD+ WVA (1920 x 1200) Display - Windows 11 Home', 'price': '$1,099.99', 'rating': '(27)'}]\n",
      "[{'name': 'Acer Swift Go 16” Touchscreen Laptop – Intel Core Ultra 9-185H Processor – 1200p – Windows 11', 'price': '$749.99', 'rating': '(96)'}, {'name': 'LG gram 17\" Touchscreen Intel EVO Edition Laptop - Intel Core Ultra 7-155H - WQXGA (2560 X 1600) - Windows 11', 'price': '$1,399.99', 'rating': '(105)'}, {'name': 'HP Pavilion 16\" Touchscreen Laptop - Intel Core Ultra 7-155U - GeForce MX570 A - Windows 11', 'price': '$1,199.99', 'rating': '(93)'}, {'name': 'HP Envy 17.3\" Laptop - Intel Core Ultra 7 Processor 155U - 1080p - GeForce RTX™ 3050 - Windows 11 Home', 'price': '$1,149.99', 'rating': '(48)'}, {'name': 'LG gram 14\" 2-in-1 Touchscreen Laptop -  Intel Evo Edition Powered By Intel Core Ultra 7 Processor 155H - (1920x1200) - Windows 11 Home', 'price': '$999.99', 'rating': '(29)'}, {'name': 'Lenovo Ideapad Slim 7i 14\" Touchscreen Intel Evo Platform Laptop -  Intel Core Ultra 7 Processor 155H - OLED WUXGA (1920 x 1200) - Windows 11', 'price': '$999.99', 'rating': '(52)'}, {'name': 'Dell Inspiron Plus 16\" Touchscreen Intel Evo Platform Laptop - Intel Core Ultra 7 Processor 155H - FHD+ WVA (1920 x 1200) Display - Windows 11 Home', 'price': '$1,099.99', 'rating': '(27)'}, {'name': 'Dell Inspiron Plus 16\" Touchscreen Laptop - Intel EVO Edition Powered by Intel Core Ultra 9 Processor 185H - FHD+ (1920 X 1200) - Windows 11', 'price': '$1,399.99', 'rating': '(45)'}]\n",
      "[{'name': 'Acer Swift Go 16” Touchscreen Laptop – Intel Core Ultra 9-185H Processor – 1200p – Windows 11', 'price': '$749.99', 'rating': '(96)'}, {'name': 'LG gram 17\" Touchscreen Intel EVO Edition Laptop - Intel Core Ultra 7-155H - WQXGA (2560 X 1600) - Windows 11', 'price': '$1,399.99', 'rating': '(105)'}, {'name': 'HP Pavilion 16\" Touchscreen Laptop - Intel Core Ultra 7-155U - GeForce MX570 A - Windows 11', 'price': '$1,199.99', 'rating': '(93)'}, {'name': 'HP Envy 17.3\" Laptop - Intel Core Ultra 7 Processor 155U - 1080p - GeForce RTX™ 3050 - Windows 11 Home', 'price': '$1,149.99', 'rating': '(48)'}, {'name': 'LG gram 14\" 2-in-1 Touchscreen Laptop -  Intel Evo Edition Powered By Intel Core Ultra 7 Processor 155H - (1920x1200) - Windows 11 Home', 'price': '$999.99', 'rating': '(29)'}, {'name': 'Lenovo Ideapad Slim 7i 14\" Touchscreen Intel Evo Platform Laptop -  Intel Core Ultra 7 Processor 155H - OLED WUXGA (1920 x 1200) - Windows 11', 'price': '$999.99', 'rating': '(52)'}, {'name': 'Dell Inspiron Plus 16\" Touchscreen Intel Evo Platform Laptop - Intel Core Ultra 7 Processor 155H - FHD+ WVA (1920 x 1200) Display - Windows 11 Home', 'price': '$1,099.99', 'rating': '(27)'}, {'name': 'Dell Inspiron Plus 16\" Touchscreen Laptop - Intel EVO Edition Powered by Intel Core Ultra 9 Processor 185H - FHD+ (1920 X 1200) - Windows 11', 'price': '$1,399.99', 'rating': '(45)'}, {'name': 'HP Envy x360 15.6\" Intel Evo Platform 2-in-1 Touchscreen Laptop - Intel Core Ultra 7 Processor 155U - 1080p - Windows 11', 'price': '$1,199.99', 'rating': '(40)'}]\n",
      "[{'name': 'Acer Swift Go 16” Touchscreen Laptop – Intel Core Ultra 9-185H Processor – 1200p – Windows 11', 'price': '$749.99', 'rating': '(96)'}, {'name': 'LG gram 17\" Touchscreen Intel EVO Edition Laptop - Intel Core Ultra 7-155H - WQXGA (2560 X 1600) - Windows 11', 'price': '$1,399.99', 'rating': '(105)'}, {'name': 'HP Pavilion 16\" Touchscreen Laptop - Intel Core Ultra 7-155U - GeForce MX570 A - Windows 11', 'price': '$1,199.99', 'rating': '(93)'}, {'name': 'HP Envy 17.3\" Laptop - Intel Core Ultra 7 Processor 155U - 1080p - GeForce RTX™ 3050 - Windows 11 Home', 'price': '$1,149.99', 'rating': '(48)'}, {'name': 'LG gram 14\" 2-in-1 Touchscreen Laptop -  Intel Evo Edition Powered By Intel Core Ultra 7 Processor 155H - (1920x1200) - Windows 11 Home', 'price': '$999.99', 'rating': '(29)'}, {'name': 'Lenovo Ideapad Slim 7i 14\" Touchscreen Intel Evo Platform Laptop -  Intel Core Ultra 7 Processor 155H - OLED WUXGA (1920 x 1200) - Windows 11', 'price': '$999.99', 'rating': '(52)'}, {'name': 'Dell Inspiron Plus 16\" Touchscreen Intel Evo Platform Laptop - Intel Core Ultra 7 Processor 155H - FHD+ WVA (1920 x 1200) Display - Windows 11 Home', 'price': '$1,099.99', 'rating': '(27)'}, {'name': 'Dell Inspiron Plus 16\" Touchscreen Laptop - Intel EVO Edition Powered by Intel Core Ultra 9 Processor 185H - FHD+ (1920 X 1200) - Windows 11', 'price': '$1,399.99', 'rating': '(45)'}, {'name': 'HP Envy x360 15.6\" Intel Evo Platform 2-in-1 Touchscreen Laptop - Intel Core Ultra 7 Processor 155U - 1080p - Windows 11', 'price': '$1,199.99', 'rating': '(40)'}, {'name': 'Lenovo IdeaPad Pro 5i 16\" Touchscreen Intel Evo Platform Laptop - Intel Core Ultra 9 processor 185H - 120HZ OLED 2048 x 1280 Display - Windows 11', 'price': '$1,499.99', 'rating': '(23)'}]\n",
      "[{'name': 'Acer Swift Go 16” Touchscreen Laptop – Intel Core Ultra 9-185H Processor – 1200p – Windows 11', 'price': '$749.99', 'rating': '(96)'}, {'name': 'LG gram 17\" Touchscreen Intel EVO Edition Laptop - Intel Core Ultra 7-155H - WQXGA (2560 X 1600) - Windows 11', 'price': '$1,399.99', 'rating': '(105)'}, {'name': 'HP Pavilion 16\" Touchscreen Laptop - Intel Core Ultra 7-155U - GeForce MX570 A - Windows 11', 'price': '$1,199.99', 'rating': '(93)'}, {'name': 'HP Envy 17.3\" Laptop - Intel Core Ultra 7 Processor 155U - 1080p - GeForce RTX™ 3050 - Windows 11 Home', 'price': '$1,149.99', 'rating': '(48)'}, {'name': 'LG gram 14\" 2-in-1 Touchscreen Laptop -  Intel Evo Edition Powered By Intel Core Ultra 7 Processor 155H - (1920x1200) - Windows 11 Home', 'price': '$999.99', 'rating': '(29)'}, {'name': 'Lenovo Ideapad Slim 7i 14\" Touchscreen Intel Evo Platform Laptop -  Intel Core Ultra 7 Processor 155H - OLED WUXGA (1920 x 1200) - Windows 11', 'price': '$999.99', 'rating': '(52)'}, {'name': 'Dell Inspiron Plus 16\" Touchscreen Intel Evo Platform Laptop - Intel Core Ultra 7 Processor 155H - FHD+ WVA (1920 x 1200) Display - Windows 11 Home', 'price': '$1,099.99', 'rating': '(27)'}, {'name': 'Dell Inspiron Plus 16\" Touchscreen Laptop - Intel EVO Edition Powered by Intel Core Ultra 9 Processor 185H - FHD+ (1920 X 1200) - Windows 11', 'price': '$1,399.99', 'rating': '(45)'}, {'name': 'HP Envy x360 15.6\" Intel Evo Platform 2-in-1 Touchscreen Laptop - Intel Core Ultra 7 Processor 155U - 1080p - Windows 11', 'price': '$1,199.99', 'rating': '(40)'}, {'name': 'Lenovo IdeaPad Pro 5i 16\" Touchscreen Intel Evo Platform Laptop - Intel Core Ultra 9 processor 185H - 120HZ OLED 2048 x 1280 Display - Windows 11', 'price': '$1,499.99', 'rating': '(23)'}, {'name': 'LG gram Pro 16\" 2-in-1 Touchscreen Intel EVO Edition Laptop powered by Intel Core Ultra 7 Processor 155H - WQXGA (2560 X 1600) - Windows 11', 'price': '$1,299.99', 'rating': '(13)'}]\n",
      "[{'name': 'Acer Swift Go 16” Touchscreen Laptop – Intel Core Ultra 9-185H Processor – 1200p – Windows 11', 'price': '$749.99', 'rating': '(96)'}, {'name': 'LG gram 17\" Touchscreen Intel EVO Edition Laptop - Intel Core Ultra 7-155H - WQXGA (2560 X 1600) - Windows 11', 'price': '$1,399.99', 'rating': '(105)'}, {'name': 'HP Pavilion 16\" Touchscreen Laptop - Intel Core Ultra 7-155U - GeForce MX570 A - Windows 11', 'price': '$1,199.99', 'rating': '(93)'}, {'name': 'HP Envy 17.3\" Laptop - Intel Core Ultra 7 Processor 155U - 1080p - GeForce RTX™ 3050 - Windows 11 Home', 'price': '$1,149.99', 'rating': '(48)'}, {'name': 'LG gram 14\" 2-in-1 Touchscreen Laptop -  Intel Evo Edition Powered By Intel Core Ultra 7 Processor 155H - (1920x1200) - Windows 11 Home', 'price': '$999.99', 'rating': '(29)'}, {'name': 'Lenovo Ideapad Slim 7i 14\" Touchscreen Intel Evo Platform Laptop -  Intel Core Ultra 7 Processor 155H - OLED WUXGA (1920 x 1200) - Windows 11', 'price': '$999.99', 'rating': '(52)'}, {'name': 'Dell Inspiron Plus 16\" Touchscreen Intel Evo Platform Laptop - Intel Core Ultra 7 Processor 155H - FHD+ WVA (1920 x 1200) Display - Windows 11 Home', 'price': '$1,099.99', 'rating': '(27)'}, {'name': 'Dell Inspiron Plus 16\" Touchscreen Laptop - Intel EVO Edition Powered by Intel Core Ultra 9 Processor 185H - FHD+ (1920 X 1200) - Windows 11', 'price': '$1,399.99', 'rating': '(45)'}, {'name': 'HP Envy x360 15.6\" Intel Evo Platform 2-in-1 Touchscreen Laptop - Intel Core Ultra 7 Processor 155U - 1080p - Windows 11', 'price': '$1,199.99', 'rating': '(40)'}, {'name': 'Lenovo IdeaPad Pro 5i 16\" Touchscreen Intel Evo Platform Laptop - Intel Core Ultra 9 processor 185H - 120HZ OLED 2048 x 1280 Display - Windows 11', 'price': '$1,499.99', 'rating': '(23)'}, {'name': 'LG gram Pro 16\" 2-in-1 Touchscreen Intel EVO Edition Laptop powered by Intel Core Ultra 7 Processor 155H - WQXGA (2560 X 1600) - Windows 11', 'price': '$1,299.99', 'rating': '(13)'}, {'name': 'LG gram 16\" Touchscreen Intel Evo Platform Laptop - Intel Core Ultra 7 Processor 155H - WQXGA (2560x1600)  - Windows 11', 'price': '$1,299.99', 'rating': '(49)'}]\n",
      "[{'name': 'Acer Swift Go 16” Touchscreen Laptop – Intel Core Ultra 9-185H Processor – 1200p – Windows 11', 'price': '$749.99', 'rating': '(96)'}, {'name': 'LG gram 17\" Touchscreen Intel EVO Edition Laptop - Intel Core Ultra 7-155H - WQXGA (2560 X 1600) - Windows 11', 'price': '$1,399.99', 'rating': '(105)'}, {'name': 'HP Pavilion 16\" Touchscreen Laptop - Intel Core Ultra 7-155U - GeForce MX570 A - Windows 11', 'price': '$1,199.99', 'rating': '(93)'}, {'name': 'HP Envy 17.3\" Laptop - Intel Core Ultra 7 Processor 155U - 1080p - GeForce RTX™ 3050 - Windows 11 Home', 'price': '$1,149.99', 'rating': '(48)'}, {'name': 'LG gram 14\" 2-in-1 Touchscreen Laptop -  Intel Evo Edition Powered By Intel Core Ultra 7 Processor 155H - (1920x1200) - Windows 11 Home', 'price': '$999.99', 'rating': '(29)'}, {'name': 'Lenovo Ideapad Slim 7i 14\" Touchscreen Intel Evo Platform Laptop -  Intel Core Ultra 7 Processor 155H - OLED WUXGA (1920 x 1200) - Windows 11', 'price': '$999.99', 'rating': '(52)'}, {'name': 'Dell Inspiron Plus 16\" Touchscreen Intel Evo Platform Laptop - Intel Core Ultra 7 Processor 155H - FHD+ WVA (1920 x 1200) Display - Windows 11 Home', 'price': '$1,099.99', 'rating': '(27)'}, {'name': 'Dell Inspiron Plus 16\" Touchscreen Laptop - Intel EVO Edition Powered by Intel Core Ultra 9 Processor 185H - FHD+ (1920 X 1200) - Windows 11', 'price': '$1,399.99', 'rating': '(45)'}, {'name': 'HP Envy x360 15.6\" Intel Evo Platform 2-in-1 Touchscreen Laptop - Intel Core Ultra 7 Processor 155U - 1080p - Windows 11', 'price': '$1,199.99', 'rating': '(40)'}, {'name': 'Lenovo IdeaPad Pro 5i 16\" Touchscreen Intel Evo Platform Laptop - Intel Core Ultra 9 processor 185H - 120HZ OLED 2048 x 1280 Display - Windows 11', 'price': '$1,499.99', 'rating': '(23)'}, {'name': 'LG gram Pro 16\" 2-in-1 Touchscreen Intel EVO Edition Laptop powered by Intel Core Ultra 7 Processor 155H - WQXGA (2560 X 1600) - Windows 11', 'price': '$1,299.99', 'rating': '(13)'}, {'name': 'LG gram 16\" Touchscreen Intel Evo Platform Laptop - Intel Core Ultra 7 Processor 155H - WQXGA (2560x1600)  - Windows 11', 'price': '$1,299.99', 'rating': '(49)'}, {'name': 'LG gram 15.6\" Touchscreen Laptop - Intel Core Ultra 7 Processor 155H - FHD (1920 x 1080) Display - Windows 11', 'price': '$899.99', 'rating': '(18)'}]\n",
      "[{'name': 'Acer Swift Go 16” Touchscreen Laptop – Intel Core Ultra 9-185H Processor – 1200p – Windows 11', 'price': '$749.99', 'rating': '(96)'}, {'name': 'LG gram 17\" Touchscreen Intel EVO Edition Laptop - Intel Core Ultra 7-155H - WQXGA (2560 X 1600) - Windows 11', 'price': '$1,399.99', 'rating': '(105)'}, {'name': 'HP Pavilion 16\" Touchscreen Laptop - Intel Core Ultra 7-155U - GeForce MX570 A - Windows 11', 'price': '$1,199.99', 'rating': '(93)'}, {'name': 'HP Envy 17.3\" Laptop - Intel Core Ultra 7 Processor 155U - 1080p - GeForce RTX™ 3050 - Windows 11 Home', 'price': '$1,149.99', 'rating': '(48)'}, {'name': 'LG gram 14\" 2-in-1 Touchscreen Laptop -  Intel Evo Edition Powered By Intel Core Ultra 7 Processor 155H - (1920x1200) - Windows 11 Home', 'price': '$999.99', 'rating': '(29)'}, {'name': 'Lenovo Ideapad Slim 7i 14\" Touchscreen Intel Evo Platform Laptop -  Intel Core Ultra 7 Processor 155H - OLED WUXGA (1920 x 1200) - Windows 11', 'price': '$999.99', 'rating': '(52)'}, {'name': 'Dell Inspiron Plus 16\" Touchscreen Intel Evo Platform Laptop - Intel Core Ultra 7 Processor 155H - FHD+ WVA (1920 x 1200) Display - Windows 11 Home', 'price': '$1,099.99', 'rating': '(27)'}, {'name': 'Dell Inspiron Plus 16\" Touchscreen Laptop - Intel EVO Edition Powered by Intel Core Ultra 9 Processor 185H - FHD+ (1920 X 1200) - Windows 11', 'price': '$1,399.99', 'rating': '(45)'}, {'name': 'HP Envy x360 15.6\" Intel Evo Platform 2-in-1 Touchscreen Laptop - Intel Core Ultra 7 Processor 155U - 1080p - Windows 11', 'price': '$1,199.99', 'rating': '(40)'}, {'name': 'Lenovo IdeaPad Pro 5i 16\" Touchscreen Intel Evo Platform Laptop - Intel Core Ultra 9 processor 185H - 120HZ OLED 2048 x 1280 Display - Windows 11', 'price': '$1,499.99', 'rating': '(23)'}, {'name': 'LG gram Pro 16\" 2-in-1 Touchscreen Intel EVO Edition Laptop powered by Intel Core Ultra 7 Processor 155H - WQXGA (2560 X 1600) - Windows 11', 'price': '$1,299.99', 'rating': '(13)'}, {'name': 'LG gram 16\" Touchscreen Intel Evo Platform Laptop - Intel Core Ultra 7 Processor 155H - WQXGA (2560x1600)  - Windows 11', 'price': '$1,299.99', 'rating': '(49)'}, {'name': 'LG gram 15.6\" Touchscreen Laptop - Intel Core Ultra 7 Processor 155H - FHD (1920 x 1080) Display - Windows 11', 'price': '$899.99', 'rating': '(18)'}, {'name': 'HP Pavilion Plus 16\" Laptop Intel Evo Platform Powered by Intel Core Ultra 7-155H - NVIDIA GeForce RTX 4050 - Windows 11', 'price': '$999.99', 'rating': '(11)'}]\n",
      "[{'name': 'Acer Swift Go 16” Touchscreen Laptop – Intel Core Ultra 9-185H Processor – 1200p – Windows 11', 'price': '$749.99', 'rating': '(96)'}, {'name': 'LG gram 17\" Touchscreen Intel EVO Edition Laptop - Intel Core Ultra 7-155H - WQXGA (2560 X 1600) - Windows 11', 'price': '$1,399.99', 'rating': '(105)'}, {'name': 'HP Pavilion 16\" Touchscreen Laptop - Intel Core Ultra 7-155U - GeForce MX570 A - Windows 11', 'price': '$1,199.99', 'rating': '(93)'}, {'name': 'HP Envy 17.3\" Laptop - Intel Core Ultra 7 Processor 155U - 1080p - GeForce RTX™ 3050 - Windows 11 Home', 'price': '$1,149.99', 'rating': '(48)'}, {'name': 'LG gram 14\" 2-in-1 Touchscreen Laptop -  Intel Evo Edition Powered By Intel Core Ultra 7 Processor 155H - (1920x1200) - Windows 11 Home', 'price': '$999.99', 'rating': '(29)'}, {'name': 'Lenovo Ideapad Slim 7i 14\" Touchscreen Intel Evo Platform Laptop -  Intel Core Ultra 7 Processor 155H - OLED WUXGA (1920 x 1200) - Windows 11', 'price': '$999.99', 'rating': '(52)'}, {'name': 'Dell Inspiron Plus 16\" Touchscreen Intel Evo Platform Laptop - Intel Core Ultra 7 Processor 155H - FHD+ WVA (1920 x 1200) Display - Windows 11 Home', 'price': '$1,099.99', 'rating': '(27)'}, {'name': 'Dell Inspiron Plus 16\" Touchscreen Laptop - Intel EVO Edition Powered by Intel Core Ultra 9 Processor 185H - FHD+ (1920 X 1200) - Windows 11', 'price': '$1,399.99', 'rating': '(45)'}, {'name': 'HP Envy x360 15.6\" Intel Evo Platform 2-in-1 Touchscreen Laptop - Intel Core Ultra 7 Processor 155U - 1080p - Windows 11', 'price': '$1,199.99', 'rating': '(40)'}, {'name': 'Lenovo IdeaPad Pro 5i 16\" Touchscreen Intel Evo Platform Laptop - Intel Core Ultra 9 processor 185H - 120HZ OLED 2048 x 1280 Display - Windows 11', 'price': '$1,499.99', 'rating': '(23)'}, {'name': 'LG gram Pro 16\" 2-in-1 Touchscreen Intel EVO Edition Laptop powered by Intel Core Ultra 7 Processor 155H - WQXGA (2560 X 1600) - Windows 11', 'price': '$1,299.99', 'rating': '(13)'}, {'name': 'LG gram 16\" Touchscreen Intel Evo Platform Laptop - Intel Core Ultra 7 Processor 155H - WQXGA (2560x1600)  - Windows 11', 'price': '$1,299.99', 'rating': '(49)'}, {'name': 'LG gram 15.6\" Touchscreen Laptop - Intel Core Ultra 7 Processor 155H - FHD (1920 x 1080) Display - Windows 11', 'price': '$899.99', 'rating': '(18)'}, {'name': 'HP Pavilion Plus 16\" Laptop Intel Evo Platform Powered by Intel Core Ultra 7-155H - NVIDIA GeForce RTX 4050 - Windows 11', 'price': '$999.99', 'rating': '(11)'}, {'name': 'MSI Claw 7\" Gaming Handheld Bundle - Intel Core Ultra 7 Processor 155H - 120Hz FHD (1920 x 1080) - Windows 11', 'price': '$629.97', 'rating': '(4)'}]\n",
      "[{'name': 'Acer Swift Go 16” Touchscreen Laptop – Intel Core Ultra 9-185H Processor – 1200p – Windows 11', 'price': '$749.99', 'rating': '(96)'}, {'name': 'LG gram 17\" Touchscreen Intel EVO Edition Laptop - Intel Core Ultra 7-155H - WQXGA (2560 X 1600) - Windows 11', 'price': '$1,399.99', 'rating': '(105)'}, {'name': 'HP Pavilion 16\" Touchscreen Laptop - Intel Core Ultra 7-155U - GeForce MX570 A - Windows 11', 'price': '$1,199.99', 'rating': '(93)'}, {'name': 'HP Envy 17.3\" Laptop - Intel Core Ultra 7 Processor 155U - 1080p - GeForce RTX™ 3050 - Windows 11 Home', 'price': '$1,149.99', 'rating': '(48)'}, {'name': 'LG gram 14\" 2-in-1 Touchscreen Laptop -  Intel Evo Edition Powered By Intel Core Ultra 7 Processor 155H - (1920x1200) - Windows 11 Home', 'price': '$999.99', 'rating': '(29)'}, {'name': 'Lenovo Ideapad Slim 7i 14\" Touchscreen Intel Evo Platform Laptop -  Intel Core Ultra 7 Processor 155H - OLED WUXGA (1920 x 1200) - Windows 11', 'price': '$999.99', 'rating': '(52)'}, {'name': 'Dell Inspiron Plus 16\" Touchscreen Intel Evo Platform Laptop - Intel Core Ultra 7 Processor 155H - FHD+ WVA (1920 x 1200) Display - Windows 11 Home', 'price': '$1,099.99', 'rating': '(27)'}, {'name': 'Dell Inspiron Plus 16\" Touchscreen Laptop - Intel EVO Edition Powered by Intel Core Ultra 9 Processor 185H - FHD+ (1920 X 1200) - Windows 11', 'price': '$1,399.99', 'rating': '(45)'}, {'name': 'HP Envy x360 15.6\" Intel Evo Platform 2-in-1 Touchscreen Laptop - Intel Core Ultra 7 Processor 155U - 1080p - Windows 11', 'price': '$1,199.99', 'rating': '(40)'}, {'name': 'Lenovo IdeaPad Pro 5i 16\" Touchscreen Intel Evo Platform Laptop - Intel Core Ultra 9 processor 185H - 120HZ OLED 2048 x 1280 Display - Windows 11', 'price': '$1,499.99', 'rating': '(23)'}, {'name': 'LG gram Pro 16\" 2-in-1 Touchscreen Intel EVO Edition Laptop powered by Intel Core Ultra 7 Processor 155H - WQXGA (2560 X 1600) - Windows 11', 'price': '$1,299.99', 'rating': '(13)'}, {'name': 'LG gram 16\" Touchscreen Intel Evo Platform Laptop - Intel Core Ultra 7 Processor 155H - WQXGA (2560x1600)  - Windows 11', 'price': '$1,299.99', 'rating': '(49)'}, {'name': 'LG gram 15.6\" Touchscreen Laptop - Intel Core Ultra 7 Processor 155H - FHD (1920 x 1080) Display - Windows 11', 'price': '$899.99', 'rating': '(18)'}, {'name': 'HP Pavilion Plus 16\" Laptop Intel Evo Platform Powered by Intel Core Ultra 7-155H - NVIDIA GeForce RTX 4050 - Windows 11', 'price': '$999.99', 'rating': '(11)'}, {'name': 'MSI Claw 7\" Gaming Handheld Bundle - Intel Core Ultra 7 Processor 155H - 120Hz FHD (1920 x 1080) - Windows 11', 'price': '$629.97', 'rating': '(4)'}, {'name': 'MSI Prestige 13 Copilot+ Evo Laptop Intel Core Ultra 7 - OLED (2880 X 1800) - Windows 11', 'price': '$1,199.99', 'rating': '(2)'}]\n",
      "[{'name': 'Acer Swift Go 16” Touchscreen Laptop – Intel Core Ultra 9-185H Processor – 1200p – Windows 11', 'price': '$749.99', 'rating': '(96)'}, {'name': 'LG gram 17\" Touchscreen Intel EVO Edition Laptop - Intel Core Ultra 7-155H - WQXGA (2560 X 1600) - Windows 11', 'price': '$1,399.99', 'rating': '(105)'}, {'name': 'HP Pavilion 16\" Touchscreen Laptop - Intel Core Ultra 7-155U - GeForce MX570 A - Windows 11', 'price': '$1,199.99', 'rating': '(93)'}, {'name': 'HP Envy 17.3\" Laptop - Intel Core Ultra 7 Processor 155U - 1080p - GeForce RTX™ 3050 - Windows 11 Home', 'price': '$1,149.99', 'rating': '(48)'}, {'name': 'LG gram 14\" 2-in-1 Touchscreen Laptop -  Intel Evo Edition Powered By Intel Core Ultra 7 Processor 155H - (1920x1200) - Windows 11 Home', 'price': '$999.99', 'rating': '(29)'}, {'name': 'Lenovo Ideapad Slim 7i 14\" Touchscreen Intel Evo Platform Laptop -  Intel Core Ultra 7 Processor 155H - OLED WUXGA (1920 x 1200) - Windows 11', 'price': '$999.99', 'rating': '(52)'}, {'name': 'Dell Inspiron Plus 16\" Touchscreen Intel Evo Platform Laptop - Intel Core Ultra 7 Processor 155H - FHD+ WVA (1920 x 1200) Display - Windows 11 Home', 'price': '$1,099.99', 'rating': '(27)'}, {'name': 'Dell Inspiron Plus 16\" Touchscreen Laptop - Intel EVO Edition Powered by Intel Core Ultra 9 Processor 185H - FHD+ (1920 X 1200) - Windows 11', 'price': '$1,399.99', 'rating': '(45)'}, {'name': 'HP Envy x360 15.6\" Intel Evo Platform 2-in-1 Touchscreen Laptop - Intel Core Ultra 7 Processor 155U - 1080p - Windows 11', 'price': '$1,199.99', 'rating': '(40)'}, {'name': 'Lenovo IdeaPad Pro 5i 16\" Touchscreen Intel Evo Platform Laptop - Intel Core Ultra 9 processor 185H - 120HZ OLED 2048 x 1280 Display - Windows 11', 'price': '$1,499.99', 'rating': '(23)'}, {'name': 'LG gram Pro 16\" 2-in-1 Touchscreen Intel EVO Edition Laptop powered by Intel Core Ultra 7 Processor 155H - WQXGA (2560 X 1600) - Windows 11', 'price': '$1,299.99', 'rating': '(13)'}, {'name': 'LG gram 16\" Touchscreen Intel Evo Platform Laptop - Intel Core Ultra 7 Processor 155H - WQXGA (2560x1600)  - Windows 11', 'price': '$1,299.99', 'rating': '(49)'}, {'name': 'LG gram 15.6\" Touchscreen Laptop - Intel Core Ultra 7 Processor 155H - FHD (1920 x 1080) Display - Windows 11', 'price': '$899.99', 'rating': '(18)'}, {'name': 'HP Pavilion Plus 16\" Laptop Intel Evo Platform Powered by Intel Core Ultra 7-155H - NVIDIA GeForce RTX 4050 - Windows 11', 'price': '$999.99', 'rating': '(11)'}, {'name': 'MSI Claw 7\" Gaming Handheld Bundle - Intel Core Ultra 7 Processor 155H - 120Hz FHD (1920 x 1080) - Windows 11', 'price': '$629.97', 'rating': '(4)'}, {'name': 'MSI Prestige 13 Copilot+ Evo Laptop Intel Core Ultra 7 - OLED (2880 X 1800) - Windows 11', 'price': '$1,199.99', 'rating': '(2)'}, {'name': 'LG gram Pro 16\" OLED Intel Evo Edition Laptop - Intel Core Ultra 7-155H - GeForce RTX 3050 - WQXGA+ (2880 X 1800) OLED Display', 'price': '$1,799.99', 'rating': '(32)'}]\n",
      "[{'name': 'Acer Swift Go 16” Touchscreen Laptop – Intel Core Ultra 9-185H Processor – 1200p – Windows 11', 'price': '$749.99', 'rating': '(96)'}, {'name': 'LG gram 17\" Touchscreen Intel EVO Edition Laptop - Intel Core Ultra 7-155H - WQXGA (2560 X 1600) - Windows 11', 'price': '$1,399.99', 'rating': '(105)'}, {'name': 'HP Pavilion 16\" Touchscreen Laptop - Intel Core Ultra 7-155U - GeForce MX570 A - Windows 11', 'price': '$1,199.99', 'rating': '(93)'}, {'name': 'HP Envy 17.3\" Laptop - Intel Core Ultra 7 Processor 155U - 1080p - GeForce RTX™ 3050 - Windows 11 Home', 'price': '$1,149.99', 'rating': '(48)'}, {'name': 'LG gram 14\" 2-in-1 Touchscreen Laptop -  Intel Evo Edition Powered By Intel Core Ultra 7 Processor 155H - (1920x1200) - Windows 11 Home', 'price': '$999.99', 'rating': '(29)'}, {'name': 'Lenovo Ideapad Slim 7i 14\" Touchscreen Intel Evo Platform Laptop -  Intel Core Ultra 7 Processor 155H - OLED WUXGA (1920 x 1200) - Windows 11', 'price': '$999.99', 'rating': '(52)'}, {'name': 'Dell Inspiron Plus 16\" Touchscreen Intel Evo Platform Laptop - Intel Core Ultra 7 Processor 155H - FHD+ WVA (1920 x 1200) Display - Windows 11 Home', 'price': '$1,099.99', 'rating': '(27)'}, {'name': 'Dell Inspiron Plus 16\" Touchscreen Laptop - Intel EVO Edition Powered by Intel Core Ultra 9 Processor 185H - FHD+ (1920 X 1200) - Windows 11', 'price': '$1,399.99', 'rating': '(45)'}, {'name': 'HP Envy x360 15.6\" Intel Evo Platform 2-in-1 Touchscreen Laptop - Intel Core Ultra 7 Processor 155U - 1080p - Windows 11', 'price': '$1,199.99', 'rating': '(40)'}, {'name': 'Lenovo IdeaPad Pro 5i 16\" Touchscreen Intel Evo Platform Laptop - Intel Core Ultra 9 processor 185H - 120HZ OLED 2048 x 1280 Display - Windows 11', 'price': '$1,499.99', 'rating': '(23)'}, {'name': 'LG gram Pro 16\" 2-in-1 Touchscreen Intel EVO Edition Laptop powered by Intel Core Ultra 7 Processor 155H - WQXGA (2560 X 1600) - Windows 11', 'price': '$1,299.99', 'rating': '(13)'}, {'name': 'LG gram 16\" Touchscreen Intel Evo Platform Laptop - Intel Core Ultra 7 Processor 155H - WQXGA (2560x1600)  - Windows 11', 'price': '$1,299.99', 'rating': '(49)'}, {'name': 'LG gram 15.6\" Touchscreen Laptop - Intel Core Ultra 7 Processor 155H - FHD (1920 x 1080) Display - Windows 11', 'price': '$899.99', 'rating': '(18)'}, {'name': 'HP Pavilion Plus 16\" Laptop Intel Evo Platform Powered by Intel Core Ultra 7-155H - NVIDIA GeForce RTX 4050 - Windows 11', 'price': '$999.99', 'rating': '(11)'}, {'name': 'MSI Claw 7\" Gaming Handheld Bundle - Intel Core Ultra 7 Processor 155H - 120Hz FHD (1920 x 1080) - Windows 11', 'price': '$629.97', 'rating': '(4)'}, {'name': 'MSI Prestige 13 Copilot+ Evo Laptop Intel Core Ultra 7 - OLED (2880 X 1800) - Windows 11', 'price': '$1,199.99', 'rating': '(2)'}, {'name': 'LG gram Pro 16\" OLED Intel Evo Edition Laptop - Intel Core Ultra 7-155H - GeForce RTX 3050 - WQXGA+ (2880 X 1800) OLED Display', 'price': '$1,799.99', 'rating': '(32)'}, {'name': 'Samsung Galaxy Book4 Pro 16” Touchscreen Laptop – Intel Core Ultra 7-155H Processor – WQXGA+ (2880 x 1800) – Windows 11', 'price': '$1,349.99', 'rating': '(12)'}]\n",
      "[{'name': 'Acer Swift Go 16” Touchscreen Laptop – Intel Core Ultra 9-185H Processor – 1200p – Windows 11', 'price': '$749.99', 'rating': '(96)'}, {'name': 'LG gram 17\" Touchscreen Intel EVO Edition Laptop - Intel Core Ultra 7-155H - WQXGA (2560 X 1600) - Windows 11', 'price': '$1,399.99', 'rating': '(105)'}, {'name': 'HP Pavilion 16\" Touchscreen Laptop - Intel Core Ultra 7-155U - GeForce MX570 A - Windows 11', 'price': '$1,199.99', 'rating': '(93)'}, {'name': 'HP Envy 17.3\" Laptop - Intel Core Ultra 7 Processor 155U - 1080p - GeForce RTX™ 3050 - Windows 11 Home', 'price': '$1,149.99', 'rating': '(48)'}, {'name': 'LG gram 14\" 2-in-1 Touchscreen Laptop -  Intel Evo Edition Powered By Intel Core Ultra 7 Processor 155H - (1920x1200) - Windows 11 Home', 'price': '$999.99', 'rating': '(29)'}, {'name': 'Lenovo Ideapad Slim 7i 14\" Touchscreen Intel Evo Platform Laptop -  Intel Core Ultra 7 Processor 155H - OLED WUXGA (1920 x 1200) - Windows 11', 'price': '$999.99', 'rating': '(52)'}, {'name': 'Dell Inspiron Plus 16\" Touchscreen Intel Evo Platform Laptop - Intel Core Ultra 7 Processor 155H - FHD+ WVA (1920 x 1200) Display - Windows 11 Home', 'price': '$1,099.99', 'rating': '(27)'}, {'name': 'Dell Inspiron Plus 16\" Touchscreen Laptop - Intel EVO Edition Powered by Intel Core Ultra 9 Processor 185H - FHD+ (1920 X 1200) - Windows 11', 'price': '$1,399.99', 'rating': '(45)'}, {'name': 'HP Envy x360 15.6\" Intel Evo Platform 2-in-1 Touchscreen Laptop - Intel Core Ultra 7 Processor 155U - 1080p - Windows 11', 'price': '$1,199.99', 'rating': '(40)'}, {'name': 'Lenovo IdeaPad Pro 5i 16\" Touchscreen Intel Evo Platform Laptop - Intel Core Ultra 9 processor 185H - 120HZ OLED 2048 x 1280 Display - Windows 11', 'price': '$1,499.99', 'rating': '(23)'}, {'name': 'LG gram Pro 16\" 2-in-1 Touchscreen Intel EVO Edition Laptop powered by Intel Core Ultra 7 Processor 155H - WQXGA (2560 X 1600) - Windows 11', 'price': '$1,299.99', 'rating': '(13)'}, {'name': 'LG gram 16\" Touchscreen Intel Evo Platform Laptop - Intel Core Ultra 7 Processor 155H - WQXGA (2560x1600)  - Windows 11', 'price': '$1,299.99', 'rating': '(49)'}, {'name': 'LG gram 15.6\" Touchscreen Laptop - Intel Core Ultra 7 Processor 155H - FHD (1920 x 1080) Display - Windows 11', 'price': '$899.99', 'rating': '(18)'}, {'name': 'HP Pavilion Plus 16\" Laptop Intel Evo Platform Powered by Intel Core Ultra 7-155H - NVIDIA GeForce RTX 4050 - Windows 11', 'price': '$999.99', 'rating': '(11)'}, {'name': 'MSI Claw 7\" Gaming Handheld Bundle - Intel Core Ultra 7 Processor 155H - 120Hz FHD (1920 x 1080) - Windows 11', 'price': '$629.97', 'rating': '(4)'}, {'name': 'MSI Prestige 13 Copilot+ Evo Laptop Intel Core Ultra 7 - OLED (2880 X 1800) - Windows 11', 'price': '$1,199.99', 'rating': '(2)'}, {'name': 'LG gram Pro 16\" OLED Intel Evo Edition Laptop - Intel Core Ultra 7-155H - GeForce RTX 3050 - WQXGA+ (2880 X 1800) OLED Display', 'price': '$1,799.99', 'rating': '(32)'}, {'name': 'Samsung Galaxy Book4 Pro 16” Touchscreen Laptop – Intel Core Ultra 7-155H Processor – WQXGA+ (2880 x 1800) – Windows 11', 'price': '$1,349.99', 'rating': '(12)'}, {'name': 'MSI Summit 13 Copilot+ PC Evo 13.3\" Touchscreen Laptop - Intel Core Ultra 7 - FHD+ (1920 X 1200) - Windows 11', 'price': '$1,299.99', 'rating': '(0)'}]\n"
     ]
    }
   ],
   "source": [
    "data = []\n",
    "for product in products:\n",
    "    data.append({\n",
    "        \"name\":extract_text(product,\".description\").strip(),\n",
    "        \"price\":extract_text(product,\".price\").strip(),\n",
    "        \"rating\": extract_text(product,\".ratings-number\").strip(),\n",
    "    })\n",
    "    print(data)"
   ]
  },
  {
   "cell_type": "code",
   "execution_count": 9,
   "id": "1ad1a83c-c0a9-4914-8712-c8923e1f8eda",
   "metadata": {},
   "outputs": [
    {
     "data": {
      "text/html": [
       "<div>\n",
       "<style scoped>\n",
       "    .dataframe tbody tr th:only-of-type {\n",
       "        vertical-align: middle;\n",
       "    }\n",
       "\n",
       "    .dataframe tbody tr th {\n",
       "        vertical-align: top;\n",
       "    }\n",
       "\n",
       "    .dataframe thead th {\n",
       "        text-align: right;\n",
       "    }\n",
       "</style>\n",
       "<table border=\"1\" class=\"dataframe\">\n",
       "  <thead>\n",
       "    <tr style=\"text-align: right;\">\n",
       "      <th></th>\n",
       "      <th>name</th>\n",
       "      <th>price</th>\n",
       "      <th>rating</th>\n",
       "    </tr>\n",
       "  </thead>\n",
       "  <tbody>\n",
       "    <tr>\n",
       "      <th>0</th>\n",
       "      <td>Acer Swift Go 16” Touchscreen Laptop – Intel C...</td>\n",
       "      <td>$749.99</td>\n",
       "      <td>(96)</td>\n",
       "    </tr>\n",
       "    <tr>\n",
       "      <th>1</th>\n",
       "      <td>LG gram 17\" Touchscreen Intel EVO Edition Lapt...</td>\n",
       "      <td>$1,399.99</td>\n",
       "      <td>(105)</td>\n",
       "    </tr>\n",
       "    <tr>\n",
       "      <th>2</th>\n",
       "      <td>HP Pavilion 16\" Touchscreen Laptop - Intel Cor...</td>\n",
       "      <td>$1,199.99</td>\n",
       "      <td>(93)</td>\n",
       "    </tr>\n",
       "    <tr>\n",
       "      <th>3</th>\n",
       "      <td>HP Envy 17.3\" Laptop - Intel Core Ultra 7 Proc...</td>\n",
       "      <td>$1,149.99</td>\n",
       "      <td>(48)</td>\n",
       "    </tr>\n",
       "    <tr>\n",
       "      <th>4</th>\n",
       "      <td>LG gram 14\" 2-in-1 Touchscreen Laptop -  Intel...</td>\n",
       "      <td>$999.99</td>\n",
       "      <td>(29)</td>\n",
       "    </tr>\n",
       "    <tr>\n",
       "      <th>5</th>\n",
       "      <td>Lenovo Ideapad Slim 7i 14\" Touchscreen Intel E...</td>\n",
       "      <td>$999.99</td>\n",
       "      <td>(52)</td>\n",
       "    </tr>\n",
       "    <tr>\n",
       "      <th>6</th>\n",
       "      <td>Dell Inspiron Plus 16\" Touchscreen Intel Evo P...</td>\n",
       "      <td>$1,099.99</td>\n",
       "      <td>(27)</td>\n",
       "    </tr>\n",
       "    <tr>\n",
       "      <th>7</th>\n",
       "      <td>Dell Inspiron Plus 16\" Touchscreen Laptop - In...</td>\n",
       "      <td>$1,399.99</td>\n",
       "      <td>(45)</td>\n",
       "    </tr>\n",
       "    <tr>\n",
       "      <th>8</th>\n",
       "      <td>HP Envy x360 15.6\" Intel Evo Platform 2-in-1 T...</td>\n",
       "      <td>$1,199.99</td>\n",
       "      <td>(40)</td>\n",
       "    </tr>\n",
       "    <tr>\n",
       "      <th>9</th>\n",
       "      <td>Lenovo IdeaPad Pro 5i 16\" Touchscreen Intel Ev...</td>\n",
       "      <td>$1,499.99</td>\n",
       "      <td>(23)</td>\n",
       "    </tr>\n",
       "    <tr>\n",
       "      <th>10</th>\n",
       "      <td>LG gram Pro 16\" 2-in-1 Touchscreen Intel EVO E...</td>\n",
       "      <td>$1,299.99</td>\n",
       "      <td>(13)</td>\n",
       "    </tr>\n",
       "    <tr>\n",
       "      <th>11</th>\n",
       "      <td>LG gram 16\" Touchscreen Intel Evo Platform Lap...</td>\n",
       "      <td>$1,299.99</td>\n",
       "      <td>(49)</td>\n",
       "    </tr>\n",
       "    <tr>\n",
       "      <th>12</th>\n",
       "      <td>LG gram 15.6\" Touchscreen Laptop - Intel Core ...</td>\n",
       "      <td>$899.99</td>\n",
       "      <td>(18)</td>\n",
       "    </tr>\n",
       "    <tr>\n",
       "      <th>13</th>\n",
       "      <td>HP Pavilion Plus 16\" Laptop Intel Evo Platform...</td>\n",
       "      <td>$999.99</td>\n",
       "      <td>(11)</td>\n",
       "    </tr>\n",
       "    <tr>\n",
       "      <th>14</th>\n",
       "      <td>MSI Claw 7\" Gaming Handheld Bundle - Intel Cor...</td>\n",
       "      <td>$629.97</td>\n",
       "      <td>(4)</td>\n",
       "    </tr>\n",
       "    <tr>\n",
       "      <th>15</th>\n",
       "      <td>MSI Prestige 13 Copilot+ Evo Laptop Intel Core...</td>\n",
       "      <td>$1,199.99</td>\n",
       "      <td>(2)</td>\n",
       "    </tr>\n",
       "    <tr>\n",
       "      <th>16</th>\n",
       "      <td>LG gram Pro 16\" OLED Intel Evo Edition Laptop ...</td>\n",
       "      <td>$1,799.99</td>\n",
       "      <td>(32)</td>\n",
       "    </tr>\n",
       "    <tr>\n",
       "      <th>17</th>\n",
       "      <td>Samsung Galaxy Book4 Pro 16” Touchscreen Lapto...</td>\n",
       "      <td>$1,349.99</td>\n",
       "      <td>(12)</td>\n",
       "    </tr>\n",
       "    <tr>\n",
       "      <th>18</th>\n",
       "      <td>MSI Summit 13 Copilot+ PC Evo 13.3\" Touchscree...</td>\n",
       "      <td>$1,299.99</td>\n",
       "      <td>(0)</td>\n",
       "    </tr>\n",
       "  </tbody>\n",
       "</table>\n",
       "</div>"
      ],
      "text/plain": [
       "                                                 name      price rating\n",
       "0   Acer Swift Go 16” Touchscreen Laptop – Intel C...    $749.99   (96)\n",
       "1   LG gram 17\" Touchscreen Intel EVO Edition Lapt...  $1,399.99  (105)\n",
       "2   HP Pavilion 16\" Touchscreen Laptop - Intel Cor...  $1,199.99   (93)\n",
       "3   HP Envy 17.3\" Laptop - Intel Core Ultra 7 Proc...  $1,149.99   (48)\n",
       "4   LG gram 14\" 2-in-1 Touchscreen Laptop -  Intel...    $999.99   (29)\n",
       "5   Lenovo Ideapad Slim 7i 14\" Touchscreen Intel E...    $999.99   (52)\n",
       "6   Dell Inspiron Plus 16\" Touchscreen Intel Evo P...  $1,099.99   (27)\n",
       "7   Dell Inspiron Plus 16\" Touchscreen Laptop - In...  $1,399.99   (45)\n",
       "8   HP Envy x360 15.6\" Intel Evo Platform 2-in-1 T...  $1,199.99   (40)\n",
       "9   Lenovo IdeaPad Pro 5i 16\" Touchscreen Intel Ev...  $1,499.99   (23)\n",
       "10  LG gram Pro 16\" 2-in-1 Touchscreen Intel EVO E...  $1,299.99   (13)\n",
       "11  LG gram 16\" Touchscreen Intel Evo Platform Lap...  $1,299.99   (49)\n",
       "12  LG gram 15.6\" Touchscreen Laptop - Intel Core ...    $899.99   (18)\n",
       "13  HP Pavilion Plus 16\" Laptop Intel Evo Platform...    $999.99   (11)\n",
       "14  MSI Claw 7\" Gaming Handheld Bundle - Intel Cor...    $629.97    (4)\n",
       "15  MSI Prestige 13 Copilot+ Evo Laptop Intel Core...  $1,199.99    (2)\n",
       "16  LG gram Pro 16\" OLED Intel Evo Edition Laptop ...  $1,799.99   (32)\n",
       "17  Samsung Galaxy Book4 Pro 16” Touchscreen Lapto...  $1,349.99   (12)\n",
       "18  MSI Summit 13 Copilot+ PC Evo 13.3\" Touchscree...  $1,299.99    (0)"
      ]
     },
     "execution_count": 9,
     "metadata": {},
     "output_type": "execute_result"
    }
   ],
   "source": [
    "ultracore = pd.DataFrame(data, columns=['name','price','rating'])\n",
    "ultracore"
   ]
  },
  {
   "cell_type": "code",
   "execution_count": null,
   "id": "3c5ada6b-d9f1-4dd5-a2d3-beb56efbdf55",
   "metadata": {},
   "outputs": [],
   "source": []
  },
  {
   "cell_type": "markdown",
   "id": "caaeacd6-bf02-45f1-be2e-a737ebfedd19",
   "metadata": {},
   "source": [
    "# DT"
   ]
  },
  {
   "cell_type": "code",
   "execution_count": 10,
   "id": "32997f0f-27e3-43a3-92e7-240d844611de",
   "metadata": {},
   "outputs": [],
   "source": [
    "url = \"https://www.costco.com/desktops-servers.html?computer-type=gaming&refine=||Computer_Type_attr-Gaming\""
   ]
  },
  {
   "cell_type": "code",
   "execution_count": 11,
   "id": "d2a1b549-da3a-4d7c-bf30-801c36cc9e2d",
   "metadata": {},
   "outputs": [],
   "source": [
    "headers = {'User-Agent': 'Mozilla/5.0 (Windows NT 10.0; Win64; x64) AppleWebKit/537.36 (KHTML, like Gecko) Chrome/127.0.0.0 Safari/537.36 Edg/127.0.0.0'}"
   ]
  },
  {
   "cell_type": "code",
   "execution_count": 12,
   "id": "c0f56d08-aef8-4be7-abe9-3873a521cbb7",
   "metadata": {},
   "outputs": [
    {
     "name": "stdout",
     "output_type": "stream",
     "text": [
      "<Response [200 OK]>\n"
     ]
    }
   ],
   "source": [
    "resp = httpx.get(url,headers=headers)\n",
    "print(resp)"
   ]
  },
  {
   "cell_type": "code",
   "execution_count": 13,
   "id": "0a4dac37-97a2-4502-a135-91f63769f07d",
   "metadata": {},
   "outputs": [],
   "source": [
    "def extract_text(html,sel):\n",
    "    try: \n",
    "        return html.css_first(sel).text()\n",
    "    except AtrributeError:\n",
    "        return None"
   ]
  },
  {
   "cell_type": "code",
   "execution_count": 14,
   "id": "7a89a493-aa89-4586-a5e3-61b500c90a6a",
   "metadata": {},
   "outputs": [
    {
     "name": "stdout",
     "output_type": "stream",
     "text": [
      "<built-in method text of selectolax.parser.Node object at 0x0000027167686840>\n"
     ]
    }
   ],
   "source": [
    "html = HTMLParser(resp.text)\n",
    "print(html.css_first(\"title\").text)"
   ]
  },
  {
   "cell_type": "code",
   "execution_count": 15,
   "id": "b637ebdd-442e-4ee4-abc2-1e57124364df",
   "metadata": {},
   "outputs": [
    {
     "name": "stdout",
     "output_type": "stream",
     "text": [
      "[<Node div>, <Node div>, <Node div>, <Node div>, <Node div>, <Node div>, <Node div>, <Node div>, <Node div>, <Node div>, <Node div>, <Node div>, <Node div>, <Node div>, <Node div>, <Node div>, <Node div>, <Node div>]\n"
     ]
    }
   ],
   "source": [
    "products = html.css(\"div.thumbnail\")\n",
    "print(products)"
   ]
  },
  {
   "cell_type": "code",
   "execution_count": 16,
   "id": "77995b34-7781-4d1a-9ad2-395ecf8a948d",
   "metadata": {},
   "outputs": [
    {
     "name": "stdout",
     "output_type": "stream",
     "text": [
      "[{'name': 'MSI Aegis R2 Liquid Cooled Gaming Desktop - 14th Gen Intel Core i9-14900F - GeForce RTX 4080 Super, 16GB - Windows 11', 'price': '$2,299.99', 'rating': '(33)'}]\n",
      "[{'name': 'MSI Aegis R2 Liquid Cooled Gaming Desktop - 14th Gen Intel Core i9-14900F - GeForce RTX 4080 Super, 16GB - Windows 11', 'price': '$2,299.99', 'rating': '(33)'}, {'name': 'CyberPowerPC Gamer Xtreme Gaming Desktop - Intel Core Processor i5-14400F - GeForce RTX 4060', 'price': '$999.99', 'rating': '(67)'}]\n",
      "[{'name': 'MSI Aegis R2 Liquid Cooled Gaming Desktop - 14th Gen Intel Core i9-14900F - GeForce RTX 4080 Super, 16GB - Windows 11', 'price': '$2,299.99', 'rating': '(33)'}, {'name': 'CyberPowerPC Gamer Xtreme Gaming Desktop - Intel Core Processor i5-14400F - GeForce RTX 4060', 'price': '$999.99', 'rating': '(67)'}, {'name': 'ASUS ROG Strix G16CHR Gaming Desktop - 14th Gen Intel Core i7-14700F (20-Core) - GeForce RTX 4060, 8GB - Windows 11', 'price': '$1,099.99', 'rating': '(9)'}]\n",
      "[{'name': 'MSI Aegis R2 Liquid Cooled Gaming Desktop - 14th Gen Intel Core i9-14900F - GeForce RTX 4080 Super, 16GB - Windows 11', 'price': '$2,299.99', 'rating': '(33)'}, {'name': 'CyberPowerPC Gamer Xtreme Gaming Desktop - Intel Core Processor i5-14400F - GeForce RTX 4060', 'price': '$999.99', 'rating': '(67)'}, {'name': 'ASUS ROG Strix G16CHR Gaming Desktop - 14th Gen Intel Core i7-14700F (20-Core) - GeForce RTX 4060, 8GB - Windows 11', 'price': '$1,099.99', 'rating': '(9)'}, {'name': 'iBUYPOWER TraceMesh 7 Gaming Desktop - 14th Gen Intel Core i7-14700F  - GeForce RTX 4060 - Windows 11', 'price': '$1,099.99', 'rating': '(63)'}]\n",
      "[{'name': 'MSI Aegis R2 Liquid Cooled Gaming Desktop - 14th Gen Intel Core i9-14900F - GeForce RTX 4080 Super, 16GB - Windows 11', 'price': '$2,299.99', 'rating': '(33)'}, {'name': 'CyberPowerPC Gamer Xtreme Gaming Desktop - Intel Core Processor i5-14400F - GeForce RTX 4060', 'price': '$999.99', 'rating': '(67)'}, {'name': 'ASUS ROG Strix G16CHR Gaming Desktop - 14th Gen Intel Core i7-14700F (20-Core) - GeForce RTX 4060, 8GB - Windows 11', 'price': '$1,099.99', 'rating': '(9)'}, {'name': 'iBUYPOWER TraceMesh 7 Gaming Desktop - 14th Gen Intel Core i7-14700F  - GeForce RTX 4060 - Windows 11', 'price': '$1,099.99', 'rating': '(63)'}, {'name': 'MSI Aegis ZS2 Liquid Cooled Gaming Desktop - AMD Ryzen 9 7900X  - GeForce RTX 4070 Super, 12GB - Windows 11', 'price': '$1,699.99', 'rating': '(7)'}]\n",
      "[{'name': 'MSI Aegis R2 Liquid Cooled Gaming Desktop - 14th Gen Intel Core i9-14900F - GeForce RTX 4080 Super, 16GB - Windows 11', 'price': '$2,299.99', 'rating': '(33)'}, {'name': 'CyberPowerPC Gamer Xtreme Gaming Desktop - Intel Core Processor i5-14400F - GeForce RTX 4060', 'price': '$999.99', 'rating': '(67)'}, {'name': 'ASUS ROG Strix G16CHR Gaming Desktop - 14th Gen Intel Core i7-14700F (20-Core) - GeForce RTX 4060, 8GB - Windows 11', 'price': '$1,099.99', 'rating': '(9)'}, {'name': 'iBUYPOWER TraceMesh 7 Gaming Desktop - 14th Gen Intel Core i7-14700F  - GeForce RTX 4060 - Windows 11', 'price': '$1,099.99', 'rating': '(63)'}, {'name': 'MSI Aegis ZS2 Liquid Cooled Gaming Desktop - AMD Ryzen 9 7900X  - GeForce RTX 4070 Super, 12GB - Windows 11', 'price': '$1,699.99', 'rating': '(7)'}, {'name': 'MSI Codex R2 Gaming Desktop - 14th Gen Intel Core i7-14700F - GeForce RTX 4060, 8GB - Windows 11 Home', 'price': '$1,199.99', 'rating': '(2)'}]\n",
      "[{'name': 'MSI Aegis R2 Liquid Cooled Gaming Desktop - 14th Gen Intel Core i9-14900F - GeForce RTX 4080 Super, 16GB - Windows 11', 'price': '$2,299.99', 'rating': '(33)'}, {'name': 'CyberPowerPC Gamer Xtreme Gaming Desktop - Intel Core Processor i5-14400F - GeForce RTX 4060', 'price': '$999.99', 'rating': '(67)'}, {'name': 'ASUS ROG Strix G16CHR Gaming Desktop - 14th Gen Intel Core i7-14700F (20-Core) - GeForce RTX 4060, 8GB - Windows 11', 'price': '$1,099.99', 'rating': '(9)'}, {'name': 'iBUYPOWER TraceMesh 7 Gaming Desktop - 14th Gen Intel Core i7-14700F  - GeForce RTX 4060 - Windows 11', 'price': '$1,099.99', 'rating': '(63)'}, {'name': 'MSI Aegis ZS2 Liquid Cooled Gaming Desktop - AMD Ryzen 9 7900X  - GeForce RTX 4070 Super, 12GB - Windows 11', 'price': '$1,699.99', 'rating': '(7)'}, {'name': 'MSI Codex R2 Gaming Desktop - 14th Gen Intel Core i7-14700F - GeForce RTX 4060, 8GB - Windows 11 Home', 'price': '$1,199.99', 'rating': '(2)'}, {'name': 'Skytech Azure 2 Liquid Cooled Gaming Desktop - AMD Ryzen 7-7800X3D - GeForce RTX 4070, 12GB - Windows 11', 'price': '$1,599.99', 'rating': '(20)'}]\n",
      "[{'name': 'MSI Aegis R2 Liquid Cooled Gaming Desktop - 14th Gen Intel Core i9-14900F - GeForce RTX 4080 Super, 16GB - Windows 11', 'price': '$2,299.99', 'rating': '(33)'}, {'name': 'CyberPowerPC Gamer Xtreme Gaming Desktop - Intel Core Processor i5-14400F - GeForce RTX 4060', 'price': '$999.99', 'rating': '(67)'}, {'name': 'ASUS ROG Strix G16CHR Gaming Desktop - 14th Gen Intel Core i7-14700F (20-Core) - GeForce RTX 4060, 8GB - Windows 11', 'price': '$1,099.99', 'rating': '(9)'}, {'name': 'iBUYPOWER TraceMesh 7 Gaming Desktop - 14th Gen Intel Core i7-14700F  - GeForce RTX 4060 - Windows 11', 'price': '$1,099.99', 'rating': '(63)'}, {'name': 'MSI Aegis ZS2 Liquid Cooled Gaming Desktop - AMD Ryzen 9 7900X  - GeForce RTX 4070 Super, 12GB - Windows 11', 'price': '$1,699.99', 'rating': '(7)'}, {'name': 'MSI Codex R2 Gaming Desktop - 14th Gen Intel Core i7-14700F - GeForce RTX 4060, 8GB - Windows 11 Home', 'price': '$1,199.99', 'rating': '(2)'}, {'name': 'Skytech Azure 2 Liquid Cooled Gaming Desktop - AMD Ryzen 7-7800X3D - GeForce RTX 4070, 12GB - Windows 11', 'price': '$1,599.99', 'rating': '(20)'}, {'name': 'iBUYPOWER SlateMesh 8 Gaming Desktop - 14th Gen Intel Core i9-14900F - NVIDIA GeForce RTX 4070 Super - Windows 11', 'price': '$1,699.99', 'rating': '(0)'}]\n",
      "[{'name': 'MSI Aegis R2 Liquid Cooled Gaming Desktop - 14th Gen Intel Core i9-14900F - GeForce RTX 4080 Super, 16GB - Windows 11', 'price': '$2,299.99', 'rating': '(33)'}, {'name': 'CyberPowerPC Gamer Xtreme Gaming Desktop - Intel Core Processor i5-14400F - GeForce RTX 4060', 'price': '$999.99', 'rating': '(67)'}, {'name': 'ASUS ROG Strix G16CHR Gaming Desktop - 14th Gen Intel Core i7-14700F (20-Core) - GeForce RTX 4060, 8GB - Windows 11', 'price': '$1,099.99', 'rating': '(9)'}, {'name': 'iBUYPOWER TraceMesh 7 Gaming Desktop - 14th Gen Intel Core i7-14700F  - GeForce RTX 4060 - Windows 11', 'price': '$1,099.99', 'rating': '(63)'}, {'name': 'MSI Aegis ZS2 Liquid Cooled Gaming Desktop - AMD Ryzen 9 7900X  - GeForce RTX 4070 Super, 12GB - Windows 11', 'price': '$1,699.99', 'rating': '(7)'}, {'name': 'MSI Codex R2 Gaming Desktop - 14th Gen Intel Core i7-14700F - GeForce RTX 4060, 8GB - Windows 11 Home', 'price': '$1,199.99', 'rating': '(2)'}, {'name': 'Skytech Azure 2 Liquid Cooled Gaming Desktop - AMD Ryzen 7-7800X3D - GeForce RTX 4070, 12GB - Windows 11', 'price': '$1,599.99', 'rating': '(20)'}, {'name': 'iBUYPOWER SlateMesh 8 Gaming Desktop - 14th Gen Intel Core i9-14900F - NVIDIA GeForce RTX 4070 Super - Windows 11', 'price': '$1,699.99', 'rating': '(0)'}, {'name': 'HP Victus Gaming Desktop – 14th Gen Intel Core i7-14700F - GeForce RTX 4060 – Window 11', 'price': '$999.99', 'rating': '(48)'}]\n",
      "[{'name': 'MSI Aegis R2 Liquid Cooled Gaming Desktop - 14th Gen Intel Core i9-14900F - GeForce RTX 4080 Super, 16GB - Windows 11', 'price': '$2,299.99', 'rating': '(33)'}, {'name': 'CyberPowerPC Gamer Xtreme Gaming Desktop - Intel Core Processor i5-14400F - GeForce RTX 4060', 'price': '$999.99', 'rating': '(67)'}, {'name': 'ASUS ROG Strix G16CHR Gaming Desktop - 14th Gen Intel Core i7-14700F (20-Core) - GeForce RTX 4060, 8GB - Windows 11', 'price': '$1,099.99', 'rating': '(9)'}, {'name': 'iBUYPOWER TraceMesh 7 Gaming Desktop - 14th Gen Intel Core i7-14700F  - GeForce RTX 4060 - Windows 11', 'price': '$1,099.99', 'rating': '(63)'}, {'name': 'MSI Aegis ZS2 Liquid Cooled Gaming Desktop - AMD Ryzen 9 7900X  - GeForce RTX 4070 Super, 12GB - Windows 11', 'price': '$1,699.99', 'rating': '(7)'}, {'name': 'MSI Codex R2 Gaming Desktop - 14th Gen Intel Core i7-14700F - GeForce RTX 4060, 8GB - Windows 11 Home', 'price': '$1,199.99', 'rating': '(2)'}, {'name': 'Skytech Azure 2 Liquid Cooled Gaming Desktop - AMD Ryzen 7-7800X3D - GeForce RTX 4070, 12GB - Windows 11', 'price': '$1,599.99', 'rating': '(20)'}, {'name': 'iBUYPOWER SlateMesh 8 Gaming Desktop - 14th Gen Intel Core i9-14900F - NVIDIA GeForce RTX 4070 Super - Windows 11', 'price': '$1,699.99', 'rating': '(0)'}, {'name': 'HP Victus Gaming Desktop – 14th Gen Intel Core i7-14700F - GeForce RTX 4060 – Window 11', 'price': '$999.99', 'rating': '(48)'}, {'name': 'CyberPowerPC Gamer Supreme Liquid Cooled Gaming Desktop - 14th Gen Intel Core i9-14900KF - GeForce RTX 4080 Super, 16GB', 'price': '$2,499.99', 'rating': '(43)'}]\n",
      "[{'name': 'MSI Aegis R2 Liquid Cooled Gaming Desktop - 14th Gen Intel Core i9-14900F - GeForce RTX 4080 Super, 16GB - Windows 11', 'price': '$2,299.99', 'rating': '(33)'}, {'name': 'CyberPowerPC Gamer Xtreme Gaming Desktop - Intel Core Processor i5-14400F - GeForce RTX 4060', 'price': '$999.99', 'rating': '(67)'}, {'name': 'ASUS ROG Strix G16CHR Gaming Desktop - 14th Gen Intel Core i7-14700F (20-Core) - GeForce RTX 4060, 8GB - Windows 11', 'price': '$1,099.99', 'rating': '(9)'}, {'name': 'iBUYPOWER TraceMesh 7 Gaming Desktop - 14th Gen Intel Core i7-14700F  - GeForce RTX 4060 - Windows 11', 'price': '$1,099.99', 'rating': '(63)'}, {'name': 'MSI Aegis ZS2 Liquid Cooled Gaming Desktop - AMD Ryzen 9 7900X  - GeForce RTX 4070 Super, 12GB - Windows 11', 'price': '$1,699.99', 'rating': '(7)'}, {'name': 'MSI Codex R2 Gaming Desktop - 14th Gen Intel Core i7-14700F - GeForce RTX 4060, 8GB - Windows 11 Home', 'price': '$1,199.99', 'rating': '(2)'}, {'name': 'Skytech Azure 2 Liquid Cooled Gaming Desktop - AMD Ryzen 7-7800X3D - GeForce RTX 4070, 12GB - Windows 11', 'price': '$1,599.99', 'rating': '(20)'}, {'name': 'iBUYPOWER SlateMesh 8 Gaming Desktop - 14th Gen Intel Core i9-14900F - NVIDIA GeForce RTX 4070 Super - Windows 11', 'price': '$1,699.99', 'rating': '(0)'}, {'name': 'HP Victus Gaming Desktop – 14th Gen Intel Core i7-14700F - GeForce RTX 4060 – Window 11', 'price': '$999.99', 'rating': '(48)'}, {'name': 'CyberPowerPC Gamer Supreme Liquid Cooled Gaming Desktop - 14th Gen Intel Core i9-14900KF - GeForce RTX 4080 Super, 16GB', 'price': '$2,499.99', 'rating': '(43)'}, {'name': 'CyberPowerPC Gamer Supreme Liquid Cooled Gaming Tower - 14th Gen Intel Core i7-14700F - GeForce RTX 4070 Super, 12GB', 'price': '$1,599.99', 'rating': '(103)'}]\n",
      "[{'name': 'MSI Aegis R2 Liquid Cooled Gaming Desktop - 14th Gen Intel Core i9-14900F - GeForce RTX 4080 Super, 16GB - Windows 11', 'price': '$2,299.99', 'rating': '(33)'}, {'name': 'CyberPowerPC Gamer Xtreme Gaming Desktop - Intel Core Processor i5-14400F - GeForce RTX 4060', 'price': '$999.99', 'rating': '(67)'}, {'name': 'ASUS ROG Strix G16CHR Gaming Desktop - 14th Gen Intel Core i7-14700F (20-Core) - GeForce RTX 4060, 8GB - Windows 11', 'price': '$1,099.99', 'rating': '(9)'}, {'name': 'iBUYPOWER TraceMesh 7 Gaming Desktop - 14th Gen Intel Core i7-14700F  - GeForce RTX 4060 - Windows 11', 'price': '$1,099.99', 'rating': '(63)'}, {'name': 'MSI Aegis ZS2 Liquid Cooled Gaming Desktop - AMD Ryzen 9 7900X  - GeForce RTX 4070 Super, 12GB - Windows 11', 'price': '$1,699.99', 'rating': '(7)'}, {'name': 'MSI Codex R2 Gaming Desktop - 14th Gen Intel Core i7-14700F - GeForce RTX 4060, 8GB - Windows 11 Home', 'price': '$1,199.99', 'rating': '(2)'}, {'name': 'Skytech Azure 2 Liquid Cooled Gaming Desktop - AMD Ryzen 7-7800X3D - GeForce RTX 4070, 12GB - Windows 11', 'price': '$1,599.99', 'rating': '(20)'}, {'name': 'iBUYPOWER SlateMesh 8 Gaming Desktop - 14th Gen Intel Core i9-14900F - NVIDIA GeForce RTX 4070 Super - Windows 11', 'price': '$1,699.99', 'rating': '(0)'}, {'name': 'HP Victus Gaming Desktop – 14th Gen Intel Core i7-14700F - GeForce RTX 4060 – Window 11', 'price': '$999.99', 'rating': '(48)'}, {'name': 'CyberPowerPC Gamer Supreme Liquid Cooled Gaming Desktop - 14th Gen Intel Core i9-14900KF - GeForce RTX 4080 Super, 16GB', 'price': '$2,499.99', 'rating': '(43)'}, {'name': 'CyberPowerPC Gamer Supreme Liquid Cooled Gaming Tower - 14th Gen Intel Core i7-14700F - GeForce RTX 4070 Super, 12GB', 'price': '$1,599.99', 'rating': '(103)'}, {'name': 'Skytech Omega 2 Liquid Cooled Gaming Desktop - AMD Ryzen 9 9900X (12-Cores) - GeForce RTX 4070 Ti Super- Windows 11', 'price': '$1,899.99', 'rating': '(0)'}]\n",
      "[{'name': 'MSI Aegis R2 Liquid Cooled Gaming Desktop - 14th Gen Intel Core i9-14900F - GeForce RTX 4080 Super, 16GB - Windows 11', 'price': '$2,299.99', 'rating': '(33)'}, {'name': 'CyberPowerPC Gamer Xtreme Gaming Desktop - Intel Core Processor i5-14400F - GeForce RTX 4060', 'price': '$999.99', 'rating': '(67)'}, {'name': 'ASUS ROG Strix G16CHR Gaming Desktop - 14th Gen Intel Core i7-14700F (20-Core) - GeForce RTX 4060, 8GB - Windows 11', 'price': '$1,099.99', 'rating': '(9)'}, {'name': 'iBUYPOWER TraceMesh 7 Gaming Desktop - 14th Gen Intel Core i7-14700F  - GeForce RTX 4060 - Windows 11', 'price': '$1,099.99', 'rating': '(63)'}, {'name': 'MSI Aegis ZS2 Liquid Cooled Gaming Desktop - AMD Ryzen 9 7900X  - GeForce RTX 4070 Super, 12GB - Windows 11', 'price': '$1,699.99', 'rating': '(7)'}, {'name': 'MSI Codex R2 Gaming Desktop - 14th Gen Intel Core i7-14700F - GeForce RTX 4060, 8GB - Windows 11 Home', 'price': '$1,199.99', 'rating': '(2)'}, {'name': 'Skytech Azure 2 Liquid Cooled Gaming Desktop - AMD Ryzen 7-7800X3D - GeForce RTX 4070, 12GB - Windows 11', 'price': '$1,599.99', 'rating': '(20)'}, {'name': 'iBUYPOWER SlateMesh 8 Gaming Desktop - 14th Gen Intel Core i9-14900F - NVIDIA GeForce RTX 4070 Super - Windows 11', 'price': '$1,699.99', 'rating': '(0)'}, {'name': 'HP Victus Gaming Desktop – 14th Gen Intel Core i7-14700F - GeForce RTX 4060 – Window 11', 'price': '$999.99', 'rating': '(48)'}, {'name': 'CyberPowerPC Gamer Supreme Liquid Cooled Gaming Desktop - 14th Gen Intel Core i9-14900KF - GeForce RTX 4080 Super, 16GB', 'price': '$2,499.99', 'rating': '(43)'}, {'name': 'CyberPowerPC Gamer Supreme Liquid Cooled Gaming Tower - 14th Gen Intel Core i7-14700F - GeForce RTX 4070 Super, 12GB', 'price': '$1,599.99', 'rating': '(103)'}, {'name': 'Skytech Omega 2 Liquid Cooled Gaming Desktop - AMD Ryzen 9 9900X (12-Cores) - GeForce RTX 4070 Ti Super- Windows 11', 'price': '$1,899.99', 'rating': '(0)'}, {'name': 'Skytech Blaze 4 Liquid Cooled Gaming Desktop - 14th Gen Intel Core i7-14700F - GeForce RTX 4060Ti - Windows 11', 'price': '$1,399.99', 'rating': '(3)'}]\n",
      "[{'name': 'MSI Aegis R2 Liquid Cooled Gaming Desktop - 14th Gen Intel Core i9-14900F - GeForce RTX 4080 Super, 16GB - Windows 11', 'price': '$2,299.99', 'rating': '(33)'}, {'name': 'CyberPowerPC Gamer Xtreme Gaming Desktop - Intel Core Processor i5-14400F - GeForce RTX 4060', 'price': '$999.99', 'rating': '(67)'}, {'name': 'ASUS ROG Strix G16CHR Gaming Desktop - 14th Gen Intel Core i7-14700F (20-Core) - GeForce RTX 4060, 8GB - Windows 11', 'price': '$1,099.99', 'rating': '(9)'}, {'name': 'iBUYPOWER TraceMesh 7 Gaming Desktop - 14th Gen Intel Core i7-14700F  - GeForce RTX 4060 - Windows 11', 'price': '$1,099.99', 'rating': '(63)'}, {'name': 'MSI Aegis ZS2 Liquid Cooled Gaming Desktop - AMD Ryzen 9 7900X  - GeForce RTX 4070 Super, 12GB - Windows 11', 'price': '$1,699.99', 'rating': '(7)'}, {'name': 'MSI Codex R2 Gaming Desktop - 14th Gen Intel Core i7-14700F - GeForce RTX 4060, 8GB - Windows 11 Home', 'price': '$1,199.99', 'rating': '(2)'}, {'name': 'Skytech Azure 2 Liquid Cooled Gaming Desktop - AMD Ryzen 7-7800X3D - GeForce RTX 4070, 12GB - Windows 11', 'price': '$1,599.99', 'rating': '(20)'}, {'name': 'iBUYPOWER SlateMesh 8 Gaming Desktop - 14th Gen Intel Core i9-14900F - NVIDIA GeForce RTX 4070 Super - Windows 11', 'price': '$1,699.99', 'rating': '(0)'}, {'name': 'HP Victus Gaming Desktop – 14th Gen Intel Core i7-14700F - GeForce RTX 4060 – Window 11', 'price': '$999.99', 'rating': '(48)'}, {'name': 'CyberPowerPC Gamer Supreme Liquid Cooled Gaming Desktop - 14th Gen Intel Core i9-14900KF - GeForce RTX 4080 Super, 16GB', 'price': '$2,499.99', 'rating': '(43)'}, {'name': 'CyberPowerPC Gamer Supreme Liquid Cooled Gaming Tower - 14th Gen Intel Core i7-14700F - GeForce RTX 4070 Super, 12GB', 'price': '$1,599.99', 'rating': '(103)'}, {'name': 'Skytech Omega 2 Liquid Cooled Gaming Desktop - AMD Ryzen 9 9900X (12-Cores) - GeForce RTX 4070 Ti Super- Windows 11', 'price': '$1,899.99', 'rating': '(0)'}, {'name': 'Skytech Blaze 4 Liquid Cooled Gaming Desktop - 14th Gen Intel Core i7-14700F - GeForce RTX 4060Ti - Windows 11', 'price': '$1,399.99', 'rating': '(3)'}, {'name': 'HP OMEN 45L Gaming Desktop - 14th Gen Intel Core i9-14900K - GeForce RTX 4070 Ti Super - Windows 11 Home', 'price': '$2,599.99', 'rating': '(5)'}]\n",
      "[{'name': 'MSI Aegis R2 Liquid Cooled Gaming Desktop - 14th Gen Intel Core i9-14900F - GeForce RTX 4080 Super, 16GB - Windows 11', 'price': '$2,299.99', 'rating': '(33)'}, {'name': 'CyberPowerPC Gamer Xtreme Gaming Desktop - Intel Core Processor i5-14400F - GeForce RTX 4060', 'price': '$999.99', 'rating': '(67)'}, {'name': 'ASUS ROG Strix G16CHR Gaming Desktop - 14th Gen Intel Core i7-14700F (20-Core) - GeForce RTX 4060, 8GB - Windows 11', 'price': '$1,099.99', 'rating': '(9)'}, {'name': 'iBUYPOWER TraceMesh 7 Gaming Desktop - 14th Gen Intel Core i7-14700F  - GeForce RTX 4060 - Windows 11', 'price': '$1,099.99', 'rating': '(63)'}, {'name': 'MSI Aegis ZS2 Liquid Cooled Gaming Desktop - AMD Ryzen 9 7900X  - GeForce RTX 4070 Super, 12GB - Windows 11', 'price': '$1,699.99', 'rating': '(7)'}, {'name': 'MSI Codex R2 Gaming Desktop - 14th Gen Intel Core i7-14700F - GeForce RTX 4060, 8GB - Windows 11 Home', 'price': '$1,199.99', 'rating': '(2)'}, {'name': 'Skytech Azure 2 Liquid Cooled Gaming Desktop - AMD Ryzen 7-7800X3D - GeForce RTX 4070, 12GB - Windows 11', 'price': '$1,599.99', 'rating': '(20)'}, {'name': 'iBUYPOWER SlateMesh 8 Gaming Desktop - 14th Gen Intel Core i9-14900F - NVIDIA GeForce RTX 4070 Super - Windows 11', 'price': '$1,699.99', 'rating': '(0)'}, {'name': 'HP Victus Gaming Desktop – 14th Gen Intel Core i7-14700F - GeForce RTX 4060 – Window 11', 'price': '$999.99', 'rating': '(48)'}, {'name': 'CyberPowerPC Gamer Supreme Liquid Cooled Gaming Desktop - 14th Gen Intel Core i9-14900KF - GeForce RTX 4080 Super, 16GB', 'price': '$2,499.99', 'rating': '(43)'}, {'name': 'CyberPowerPC Gamer Supreme Liquid Cooled Gaming Tower - 14th Gen Intel Core i7-14700F - GeForce RTX 4070 Super, 12GB', 'price': '$1,599.99', 'rating': '(103)'}, {'name': 'Skytech Omega 2 Liquid Cooled Gaming Desktop - AMD Ryzen 9 9900X (12-Cores) - GeForce RTX 4070 Ti Super- Windows 11', 'price': '$1,899.99', 'rating': '(0)'}, {'name': 'Skytech Blaze 4 Liquid Cooled Gaming Desktop - 14th Gen Intel Core i7-14700F - GeForce RTX 4060Ti - Windows 11', 'price': '$1,399.99', 'rating': '(3)'}, {'name': 'HP OMEN 45L Gaming Desktop - 14th Gen Intel Core i9-14900K - GeForce RTX 4070 Ti Super - Windows 11 Home', 'price': '$2,599.99', 'rating': '(5)'}, {'name': 'iBuyPower Trace 7 Gaming Desktop - 14th Gen Intel Core i9-14900F - NVIDIA GeForce RTX 4060 - Windows 11', 'price': '$1,499.99', 'rating': '(10)'}]\n",
      "[{'name': 'MSI Aegis R2 Liquid Cooled Gaming Desktop - 14th Gen Intel Core i9-14900F - GeForce RTX 4080 Super, 16GB - Windows 11', 'price': '$2,299.99', 'rating': '(33)'}, {'name': 'CyberPowerPC Gamer Xtreme Gaming Desktop - Intel Core Processor i5-14400F - GeForce RTX 4060', 'price': '$999.99', 'rating': '(67)'}, {'name': 'ASUS ROG Strix G16CHR Gaming Desktop - 14th Gen Intel Core i7-14700F (20-Core) - GeForce RTX 4060, 8GB - Windows 11', 'price': '$1,099.99', 'rating': '(9)'}, {'name': 'iBUYPOWER TraceMesh 7 Gaming Desktop - 14th Gen Intel Core i7-14700F  - GeForce RTX 4060 - Windows 11', 'price': '$1,099.99', 'rating': '(63)'}, {'name': 'MSI Aegis ZS2 Liquid Cooled Gaming Desktop - AMD Ryzen 9 7900X  - GeForce RTX 4070 Super, 12GB - Windows 11', 'price': '$1,699.99', 'rating': '(7)'}, {'name': 'MSI Codex R2 Gaming Desktop - 14th Gen Intel Core i7-14700F - GeForce RTX 4060, 8GB - Windows 11 Home', 'price': '$1,199.99', 'rating': '(2)'}, {'name': 'Skytech Azure 2 Liquid Cooled Gaming Desktop - AMD Ryzen 7-7800X3D - GeForce RTX 4070, 12GB - Windows 11', 'price': '$1,599.99', 'rating': '(20)'}, {'name': 'iBUYPOWER SlateMesh 8 Gaming Desktop - 14th Gen Intel Core i9-14900F - NVIDIA GeForce RTX 4070 Super - Windows 11', 'price': '$1,699.99', 'rating': '(0)'}, {'name': 'HP Victus Gaming Desktop – 14th Gen Intel Core i7-14700F - GeForce RTX 4060 – Window 11', 'price': '$999.99', 'rating': '(48)'}, {'name': 'CyberPowerPC Gamer Supreme Liquid Cooled Gaming Desktop - 14th Gen Intel Core i9-14900KF - GeForce RTX 4080 Super, 16GB', 'price': '$2,499.99', 'rating': '(43)'}, {'name': 'CyberPowerPC Gamer Supreme Liquid Cooled Gaming Tower - 14th Gen Intel Core i7-14700F - GeForce RTX 4070 Super, 12GB', 'price': '$1,599.99', 'rating': '(103)'}, {'name': 'Skytech Omega 2 Liquid Cooled Gaming Desktop - AMD Ryzen 9 9900X (12-Cores) - GeForce RTX 4070 Ti Super- Windows 11', 'price': '$1,899.99', 'rating': '(0)'}, {'name': 'Skytech Blaze 4 Liquid Cooled Gaming Desktop - 14th Gen Intel Core i7-14700F - GeForce RTX 4060Ti - Windows 11', 'price': '$1,399.99', 'rating': '(3)'}, {'name': 'HP OMEN 45L Gaming Desktop - 14th Gen Intel Core i9-14900K - GeForce RTX 4070 Ti Super - Windows 11 Home', 'price': '$2,599.99', 'rating': '(5)'}, {'name': 'iBuyPower Trace 7 Gaming Desktop - 14th Gen Intel Core i9-14900F - NVIDIA GeForce RTX 4060 - Windows 11', 'price': '$1,499.99', 'rating': '(10)'}, {'name': 'MSI Aegis R2 Gaming Desktop - Intel Core i9 Processor 14900F - GeForce RTX 4070 - Windows 11 Home', 'price': '$1,699.99', 'rating': '(32)'}]\n",
      "[{'name': 'MSI Aegis R2 Liquid Cooled Gaming Desktop - 14th Gen Intel Core i9-14900F - GeForce RTX 4080 Super, 16GB - Windows 11', 'price': '$2,299.99', 'rating': '(33)'}, {'name': 'CyberPowerPC Gamer Xtreme Gaming Desktop - Intel Core Processor i5-14400F - GeForce RTX 4060', 'price': '$999.99', 'rating': '(67)'}, {'name': 'ASUS ROG Strix G16CHR Gaming Desktop - 14th Gen Intel Core i7-14700F (20-Core) - GeForce RTX 4060, 8GB - Windows 11', 'price': '$1,099.99', 'rating': '(9)'}, {'name': 'iBUYPOWER TraceMesh 7 Gaming Desktop - 14th Gen Intel Core i7-14700F  - GeForce RTX 4060 - Windows 11', 'price': '$1,099.99', 'rating': '(63)'}, {'name': 'MSI Aegis ZS2 Liquid Cooled Gaming Desktop - AMD Ryzen 9 7900X  - GeForce RTX 4070 Super, 12GB - Windows 11', 'price': '$1,699.99', 'rating': '(7)'}, {'name': 'MSI Codex R2 Gaming Desktop - 14th Gen Intel Core i7-14700F - GeForce RTX 4060, 8GB - Windows 11 Home', 'price': '$1,199.99', 'rating': '(2)'}, {'name': 'Skytech Azure 2 Liquid Cooled Gaming Desktop - AMD Ryzen 7-7800X3D - GeForce RTX 4070, 12GB - Windows 11', 'price': '$1,599.99', 'rating': '(20)'}, {'name': 'iBUYPOWER SlateMesh 8 Gaming Desktop - 14th Gen Intel Core i9-14900F - NVIDIA GeForce RTX 4070 Super - Windows 11', 'price': '$1,699.99', 'rating': '(0)'}, {'name': 'HP Victus Gaming Desktop – 14th Gen Intel Core i7-14700F - GeForce RTX 4060 – Window 11', 'price': '$999.99', 'rating': '(48)'}, {'name': 'CyberPowerPC Gamer Supreme Liquid Cooled Gaming Desktop - 14th Gen Intel Core i9-14900KF - GeForce RTX 4080 Super, 16GB', 'price': '$2,499.99', 'rating': '(43)'}, {'name': 'CyberPowerPC Gamer Supreme Liquid Cooled Gaming Tower - 14th Gen Intel Core i7-14700F - GeForce RTX 4070 Super, 12GB', 'price': '$1,599.99', 'rating': '(103)'}, {'name': 'Skytech Omega 2 Liquid Cooled Gaming Desktop - AMD Ryzen 9 9900X (12-Cores) - GeForce RTX 4070 Ti Super- Windows 11', 'price': '$1,899.99', 'rating': '(0)'}, {'name': 'Skytech Blaze 4 Liquid Cooled Gaming Desktop - 14th Gen Intel Core i7-14700F - GeForce RTX 4060Ti - Windows 11', 'price': '$1,399.99', 'rating': '(3)'}, {'name': 'HP OMEN 45L Gaming Desktop - 14th Gen Intel Core i9-14900K - GeForce RTX 4070 Ti Super - Windows 11 Home', 'price': '$2,599.99', 'rating': '(5)'}, {'name': 'iBuyPower Trace 7 Gaming Desktop - 14th Gen Intel Core i9-14900F - NVIDIA GeForce RTX 4060 - Windows 11', 'price': '$1,499.99', 'rating': '(10)'}, {'name': 'MSI Aegis R2 Gaming Desktop - Intel Core i9 Processor 14900F - GeForce RTX 4070 - Windows 11 Home', 'price': '$1,699.99', 'rating': '(32)'}, {'name': 'MSI Codex R2 Gaming Desktop - 14th Gen Intel Core i5-14400F - GeForce RTX 4060 Ti , 8GB - Windows 11 Home', 'price': '$1,049.99', 'rating': '(0)'}]\n",
      "[{'name': 'MSI Aegis R2 Liquid Cooled Gaming Desktop - 14th Gen Intel Core i9-14900F - GeForce RTX 4080 Super, 16GB - Windows 11', 'price': '$2,299.99', 'rating': '(33)'}, {'name': 'CyberPowerPC Gamer Xtreme Gaming Desktop - Intel Core Processor i5-14400F - GeForce RTX 4060', 'price': '$999.99', 'rating': '(67)'}, {'name': 'ASUS ROG Strix G16CHR Gaming Desktop - 14th Gen Intel Core i7-14700F (20-Core) - GeForce RTX 4060, 8GB - Windows 11', 'price': '$1,099.99', 'rating': '(9)'}, {'name': 'iBUYPOWER TraceMesh 7 Gaming Desktop - 14th Gen Intel Core i7-14700F  - GeForce RTX 4060 - Windows 11', 'price': '$1,099.99', 'rating': '(63)'}, {'name': 'MSI Aegis ZS2 Liquid Cooled Gaming Desktop - AMD Ryzen 9 7900X  - GeForce RTX 4070 Super, 12GB - Windows 11', 'price': '$1,699.99', 'rating': '(7)'}, {'name': 'MSI Codex R2 Gaming Desktop - 14th Gen Intel Core i7-14700F - GeForce RTX 4060, 8GB - Windows 11 Home', 'price': '$1,199.99', 'rating': '(2)'}, {'name': 'Skytech Azure 2 Liquid Cooled Gaming Desktop - AMD Ryzen 7-7800X3D - GeForce RTX 4070, 12GB - Windows 11', 'price': '$1,599.99', 'rating': '(20)'}, {'name': 'iBUYPOWER SlateMesh 8 Gaming Desktop - 14th Gen Intel Core i9-14900F - NVIDIA GeForce RTX 4070 Super - Windows 11', 'price': '$1,699.99', 'rating': '(0)'}, {'name': 'HP Victus Gaming Desktop – 14th Gen Intel Core i7-14700F - GeForce RTX 4060 – Window 11', 'price': '$999.99', 'rating': '(48)'}, {'name': 'CyberPowerPC Gamer Supreme Liquid Cooled Gaming Desktop - 14th Gen Intel Core i9-14900KF - GeForce RTX 4080 Super, 16GB', 'price': '$2,499.99', 'rating': '(43)'}, {'name': 'CyberPowerPC Gamer Supreme Liquid Cooled Gaming Tower - 14th Gen Intel Core i7-14700F - GeForce RTX 4070 Super, 12GB', 'price': '$1,599.99', 'rating': '(103)'}, {'name': 'Skytech Omega 2 Liquid Cooled Gaming Desktop - AMD Ryzen 9 9900X (12-Cores) - GeForce RTX 4070 Ti Super- Windows 11', 'price': '$1,899.99', 'rating': '(0)'}, {'name': 'Skytech Blaze 4 Liquid Cooled Gaming Desktop - 14th Gen Intel Core i7-14700F - GeForce RTX 4060Ti - Windows 11', 'price': '$1,399.99', 'rating': '(3)'}, {'name': 'HP OMEN 45L Gaming Desktop - 14th Gen Intel Core i9-14900K - GeForce RTX 4070 Ti Super - Windows 11 Home', 'price': '$2,599.99', 'rating': '(5)'}, {'name': 'iBuyPower Trace 7 Gaming Desktop - 14th Gen Intel Core i9-14900F - NVIDIA GeForce RTX 4060 - Windows 11', 'price': '$1,499.99', 'rating': '(10)'}, {'name': 'MSI Aegis R2 Gaming Desktop - Intel Core i9 Processor 14900F - GeForce RTX 4070 - Windows 11 Home', 'price': '$1,699.99', 'rating': '(32)'}, {'name': 'MSI Codex R2 Gaming Desktop - 14th Gen Intel Core i5-14400F - GeForce RTX 4060 Ti , 8GB - Windows 11 Home', 'price': '$1,049.99', 'rating': '(0)'}, {'name': 'iBuyPower Y70 Gaming Desktop - 14th Gen Intel Core i9-14900F - NVIDIA GeForce RTX 4070Ti Super - Windows 11', 'price': '$2,299.99', 'rating': '(0)'}]\n"
     ]
    }
   ],
   "source": [
    "data = []\n",
    "for product in products:\n",
    "    data.append({\n",
    "        \"name\":extract_text(product,\".description\").strip(),\n",
    "        \"price\":extract_text(product,\".price\").strip(),\n",
    "        \"rating\": extract_text(product,\".ratings-number\").strip(),\n",
    "    })\n",
    "    print(data)"
   ]
  },
  {
   "cell_type": "code",
   "execution_count": 17,
   "id": "0b456e12-48cd-4fd7-9431-4bf84ea9a346",
   "metadata": {},
   "outputs": [
    {
     "data": {
      "text/html": [
       "<div>\n",
       "<style scoped>\n",
       "    .dataframe tbody tr th:only-of-type {\n",
       "        vertical-align: middle;\n",
       "    }\n",
       "\n",
       "    .dataframe tbody tr th {\n",
       "        vertical-align: top;\n",
       "    }\n",
       "\n",
       "    .dataframe thead th {\n",
       "        text-align: right;\n",
       "    }\n",
       "</style>\n",
       "<table border=\"1\" class=\"dataframe\">\n",
       "  <thead>\n",
       "    <tr style=\"text-align: right;\">\n",
       "      <th></th>\n",
       "      <th>name</th>\n",
       "      <th>price</th>\n",
       "      <th>rating</th>\n",
       "    </tr>\n",
       "  </thead>\n",
       "  <tbody>\n",
       "    <tr>\n",
       "      <th>0</th>\n",
       "      <td>MSI Aegis R2 Liquid Cooled Gaming Desktop - 14...</td>\n",
       "      <td>$2,299.99</td>\n",
       "      <td>(33)</td>\n",
       "    </tr>\n",
       "    <tr>\n",
       "      <th>1</th>\n",
       "      <td>CyberPowerPC Gamer Xtreme Gaming Desktop - Int...</td>\n",
       "      <td>$999.99</td>\n",
       "      <td>(67)</td>\n",
       "    </tr>\n",
       "    <tr>\n",
       "      <th>2</th>\n",
       "      <td>ASUS ROG Strix G16CHR Gaming Desktop - 14th Ge...</td>\n",
       "      <td>$1,099.99</td>\n",
       "      <td>(9)</td>\n",
       "    </tr>\n",
       "    <tr>\n",
       "      <th>3</th>\n",
       "      <td>iBUYPOWER TraceMesh 7 Gaming Desktop - 14th Ge...</td>\n",
       "      <td>$1,099.99</td>\n",
       "      <td>(63)</td>\n",
       "    </tr>\n",
       "    <tr>\n",
       "      <th>4</th>\n",
       "      <td>MSI Aegis ZS2 Liquid Cooled Gaming Desktop - A...</td>\n",
       "      <td>$1,699.99</td>\n",
       "      <td>(7)</td>\n",
       "    </tr>\n",
       "    <tr>\n",
       "      <th>5</th>\n",
       "      <td>MSI Codex R2 Gaming Desktop - 14th Gen Intel C...</td>\n",
       "      <td>$1,199.99</td>\n",
       "      <td>(2)</td>\n",
       "    </tr>\n",
       "    <tr>\n",
       "      <th>6</th>\n",
       "      <td>Skytech Azure 2 Liquid Cooled Gaming Desktop -...</td>\n",
       "      <td>$1,599.99</td>\n",
       "      <td>(20)</td>\n",
       "    </tr>\n",
       "    <tr>\n",
       "      <th>7</th>\n",
       "      <td>iBUYPOWER SlateMesh 8 Gaming Desktop - 14th Ge...</td>\n",
       "      <td>$1,699.99</td>\n",
       "      <td>(0)</td>\n",
       "    </tr>\n",
       "    <tr>\n",
       "      <th>8</th>\n",
       "      <td>HP Victus Gaming Desktop – 14th Gen Intel Core...</td>\n",
       "      <td>$999.99</td>\n",
       "      <td>(48)</td>\n",
       "    </tr>\n",
       "    <tr>\n",
       "      <th>9</th>\n",
       "      <td>CyberPowerPC Gamer Supreme Liquid Cooled Gamin...</td>\n",
       "      <td>$2,499.99</td>\n",
       "      <td>(43)</td>\n",
       "    </tr>\n",
       "    <tr>\n",
       "      <th>10</th>\n",
       "      <td>CyberPowerPC Gamer Supreme Liquid Cooled Gamin...</td>\n",
       "      <td>$1,599.99</td>\n",
       "      <td>(103)</td>\n",
       "    </tr>\n",
       "    <tr>\n",
       "      <th>11</th>\n",
       "      <td>Skytech Omega 2 Liquid Cooled Gaming Desktop -...</td>\n",
       "      <td>$1,899.99</td>\n",
       "      <td>(0)</td>\n",
       "    </tr>\n",
       "    <tr>\n",
       "      <th>12</th>\n",
       "      <td>Skytech Blaze 4 Liquid Cooled Gaming Desktop -...</td>\n",
       "      <td>$1,399.99</td>\n",
       "      <td>(3)</td>\n",
       "    </tr>\n",
       "    <tr>\n",
       "      <th>13</th>\n",
       "      <td>HP OMEN 45L Gaming Desktop - 14th Gen Intel Co...</td>\n",
       "      <td>$2,599.99</td>\n",
       "      <td>(5)</td>\n",
       "    </tr>\n",
       "    <tr>\n",
       "      <th>14</th>\n",
       "      <td>iBuyPower Trace 7 Gaming Desktop - 14th Gen In...</td>\n",
       "      <td>$1,499.99</td>\n",
       "      <td>(10)</td>\n",
       "    </tr>\n",
       "    <tr>\n",
       "      <th>15</th>\n",
       "      <td>MSI Aegis R2 Gaming Desktop - Intel Core i9 Pr...</td>\n",
       "      <td>$1,699.99</td>\n",
       "      <td>(32)</td>\n",
       "    </tr>\n",
       "    <tr>\n",
       "      <th>16</th>\n",
       "      <td>MSI Codex R2 Gaming Desktop - 14th Gen Intel C...</td>\n",
       "      <td>$1,049.99</td>\n",
       "      <td>(0)</td>\n",
       "    </tr>\n",
       "    <tr>\n",
       "      <th>17</th>\n",
       "      <td>iBuyPower Y70 Gaming Desktop - 14th Gen Intel ...</td>\n",
       "      <td>$2,299.99</td>\n",
       "      <td>(0)</td>\n",
       "    </tr>\n",
       "  </tbody>\n",
       "</table>\n",
       "</div>"
      ],
      "text/plain": [
       "                                                 name      price rating\n",
       "0   MSI Aegis R2 Liquid Cooled Gaming Desktop - 14...  $2,299.99   (33)\n",
       "1   CyberPowerPC Gamer Xtreme Gaming Desktop - Int...    $999.99   (67)\n",
       "2   ASUS ROG Strix G16CHR Gaming Desktop - 14th Ge...  $1,099.99    (9)\n",
       "3   iBUYPOWER TraceMesh 7 Gaming Desktop - 14th Ge...  $1,099.99   (63)\n",
       "4   MSI Aegis ZS2 Liquid Cooled Gaming Desktop - A...  $1,699.99    (7)\n",
       "5   MSI Codex R2 Gaming Desktop - 14th Gen Intel C...  $1,199.99    (2)\n",
       "6   Skytech Azure 2 Liquid Cooled Gaming Desktop -...  $1,599.99   (20)\n",
       "7   iBUYPOWER SlateMesh 8 Gaming Desktop - 14th Ge...  $1,699.99    (0)\n",
       "8   HP Victus Gaming Desktop – 14th Gen Intel Core...    $999.99   (48)\n",
       "9   CyberPowerPC Gamer Supreme Liquid Cooled Gamin...  $2,499.99   (43)\n",
       "10  CyberPowerPC Gamer Supreme Liquid Cooled Gamin...  $1,599.99  (103)\n",
       "11  Skytech Omega 2 Liquid Cooled Gaming Desktop -...  $1,899.99    (0)\n",
       "12  Skytech Blaze 4 Liquid Cooled Gaming Desktop -...  $1,399.99    (3)\n",
       "13  HP OMEN 45L Gaming Desktop - 14th Gen Intel Co...  $2,599.99    (5)\n",
       "14  iBuyPower Trace 7 Gaming Desktop - 14th Gen In...  $1,499.99   (10)\n",
       "15  MSI Aegis R2 Gaming Desktop - Intel Core i9 Pr...  $1,699.99   (32)\n",
       "16  MSI Codex R2 Gaming Desktop - 14th Gen Intel C...  $1,049.99    (0)\n",
       "17  iBuyPower Y70 Gaming Desktop - 14th Gen Intel ...  $2,299.99    (0)"
      ]
     },
     "execution_count": 17,
     "metadata": {},
     "output_type": "execute_result"
    }
   ],
   "source": [
    "dt = pd.DataFrame(data, columns=['name','price','rating'])\n",
    "dt"
   ]
  },
  {
   "cell_type": "code",
   "execution_count": null,
   "id": "66bd5999-dc41-49c2-a3c7-31959e9afa0f",
   "metadata": {},
   "outputs": [],
   "source": []
  },
  {
   "cell_type": "code",
   "execution_count": null,
   "id": "9c991462-b93c-4056-b77b-924d949cfe37",
   "metadata": {},
   "outputs": [],
   "source": []
  },
  {
   "cell_type": "markdown",
   "id": "3e9da0d7-77a5-4c1b-b28d-ed4829daaebd",
   "metadata": {},
   "source": [
    "## NB"
   ]
  },
  {
   "cell_type": "code",
   "execution_count": 18,
   "id": "41987ce8-5467-4e84-b7e8-17caa4efb4bd",
   "metadata": {},
   "outputs": [],
   "source": [
    "url = \"https://www.costco.com/laptops.html?computer-type=gaming&refine=||Computer_Type_attr-Gaming\""
   ]
  },
  {
   "cell_type": "code",
   "execution_count": 19,
   "id": "571bf18b-1e33-49b5-99d4-6008d9688136",
   "metadata": {},
   "outputs": [],
   "source": [
    "headers = {'User-Agent': 'Mozilla/5.0 (Windows NT 10.0; Win64; x64) AppleWebKit/537.36 (KHTML, like Gecko) Chrome/127.0.0.0 Safari/537.36 Edg/127.0.0.0'}"
   ]
  },
  {
   "cell_type": "code",
   "execution_count": 20,
   "id": "d3c9fa45-61be-4771-938c-40d76e1141b4",
   "metadata": {},
   "outputs": [
    {
     "name": "stdout",
     "output_type": "stream",
     "text": [
      "<Response [200 OK]>\n"
     ]
    }
   ],
   "source": [
    "resp = httpx.get(url,headers=headers)\n",
    "print(resp)"
   ]
  },
  {
   "cell_type": "code",
   "execution_count": 21,
   "id": "79dcf58f-33a8-47c8-96ce-74aa95c99fc7",
   "metadata": {},
   "outputs": [],
   "source": [
    "def extract_text(html,sel):\n",
    "    try: \n",
    "        return html.css_first(sel).text()\n",
    "    except AtrributeError:\n",
    "        return None"
   ]
  },
  {
   "cell_type": "code",
   "execution_count": 22,
   "id": "27ed3754-5298-42fb-aee6-d8b5df5fdb27",
   "metadata": {},
   "outputs": [
    {
     "name": "stdout",
     "output_type": "stream",
     "text": [
      "<built-in method text of selectolax.parser.Node object at 0x000002716768D540>\n"
     ]
    }
   ],
   "source": [
    "html = HTMLParser(resp.text)\n",
    "print(html.css_first(\"title\").text)"
   ]
  },
  {
   "cell_type": "code",
   "execution_count": 23,
   "id": "0484a3cf-4c1e-455c-9e0b-6b27ebfce4ad",
   "metadata": {},
   "outputs": [
    {
     "name": "stdout",
     "output_type": "stream",
     "text": [
      "[<Node div>, <Node div>, <Node div>, <Node div>, <Node div>, <Node div>, <Node div>, <Node div>, <Node div>]\n"
     ]
    }
   ],
   "source": [
    "products = html.css(\"div.thumbnail\")\n",
    "print(products)"
   ]
  },
  {
   "cell_type": "code",
   "execution_count": 24,
   "id": "a0bc7477-8278-4e1f-9213-eafee55ed1e6",
   "metadata": {},
   "outputs": [
    {
     "name": "stdout",
     "output_type": "stream",
     "text": [
      "[{'name': 'HP OMEN 16.1\" Gaming Laptop - 14th Gen Intel Core i7-14650HX - GeForce RTX 4060 - 144HZ 1080p - Windows 11', 'price': '$1,299.99', 'rating': '(27)'}]\n",
      "[{'name': 'HP OMEN 16.1\" Gaming Laptop - 14th Gen Intel Core i7-14650HX - GeForce RTX 4060 - 144HZ 1080p - Windows 11', 'price': '$1,299.99', 'rating': '(27)'}, {'name': 'Lenovo LEGION 5i 16\" Gaming Laptop - 14th Gen Intel Core i9-14900HX - GeForce RTX 4060 - 165Hz 2560 x 1600', 'price': '$1,299.99', 'rating': '(87)'}]\n",
      "[{'name': 'HP OMEN 16.1\" Gaming Laptop - 14th Gen Intel Core i7-14650HX - GeForce RTX 4060 - 144HZ 1080p - Windows 11', 'price': '$1,299.99', 'rating': '(27)'}, {'name': 'Lenovo LEGION 5i 16\" Gaming Laptop - 14th Gen Intel Core i9-14900HX - GeForce RTX 4060 - 165Hz 2560 x 1600', 'price': '$1,299.99', 'rating': '(87)'}, {'name': 'MSI Raider 18 HX 18\" Gaming Laptop - 14th Gen Intel Core i9-14900HX - GeForce RTX 4080 - QHD+ (2560 X 1600) 240 Hz - Windows 11', 'price': '$2,399.99', 'rating': '(24)'}]\n",
      "[{'name': 'HP OMEN 16.1\" Gaming Laptop - 14th Gen Intel Core i7-14650HX - GeForce RTX 4060 - 144HZ 1080p - Windows 11', 'price': '$1,299.99', 'rating': '(27)'}, {'name': 'Lenovo LEGION 5i 16\" Gaming Laptop - 14th Gen Intel Core i9-14900HX - GeForce RTX 4060 - 165Hz 2560 x 1600', 'price': '$1,299.99', 'rating': '(87)'}, {'name': 'MSI Raider 18 HX 18\" Gaming Laptop - 14th Gen Intel Core i9-14900HX - GeForce RTX 4080 - QHD+ (2560 X 1600) 240 Hz - Windows 11', 'price': '$2,399.99', 'rating': '(24)'}, {'name': 'ASUS ROG Strix G18 18\" Gaming Laptop - 14th Gen Intel Core i9-14900HX (24-Core) - GeForce RTX 4060, 8GB – 2.5K (2560 x 1600) 240Hz Display - Windows 11', 'price': '$1,899.99', 'rating': '(93)'}]\n",
      "[{'name': 'HP OMEN 16.1\" Gaming Laptop - 14th Gen Intel Core i7-14650HX - GeForce RTX 4060 - 144HZ 1080p - Windows 11', 'price': '$1,299.99', 'rating': '(27)'}, {'name': 'Lenovo LEGION 5i 16\" Gaming Laptop - 14th Gen Intel Core i9-14900HX - GeForce RTX 4060 - 165Hz 2560 x 1600', 'price': '$1,299.99', 'rating': '(87)'}, {'name': 'MSI Raider 18 HX 18\" Gaming Laptop - 14th Gen Intel Core i9-14900HX - GeForce RTX 4080 - QHD+ (2560 X 1600) 240 Hz - Windows 11', 'price': '$2,399.99', 'rating': '(24)'}, {'name': 'ASUS ROG Strix G18 18\" Gaming Laptop - 14th Gen Intel Core i9-14900HX (24-Core) - GeForce RTX 4060, 8GB – 2.5K (2560 x 1600) 240Hz Display - Windows 11', 'price': '$1,899.99', 'rating': '(93)'}, {'name': 'MSI Katana A15 15.6\" Gaming Laptop - AMD Ryzen 7-8845HS - GeForce RTX 4060, 8GB - FHD (1920 X 1080) - Windows 11', 'price': '$1,199.99', 'rating': '(11)'}]\n",
      "[{'name': 'HP OMEN 16.1\" Gaming Laptop - 14th Gen Intel Core i7-14650HX - GeForce RTX 4060 - 144HZ 1080p - Windows 11', 'price': '$1,299.99', 'rating': '(27)'}, {'name': 'Lenovo LEGION 5i 16\" Gaming Laptop - 14th Gen Intel Core i9-14900HX - GeForce RTX 4060 - 165Hz 2560 x 1600', 'price': '$1,299.99', 'rating': '(87)'}, {'name': 'MSI Raider 18 HX 18\" Gaming Laptop - 14th Gen Intel Core i9-14900HX - GeForce RTX 4080 - QHD+ (2560 X 1600) 240 Hz - Windows 11', 'price': '$2,399.99', 'rating': '(24)'}, {'name': 'ASUS ROG Strix G18 18\" Gaming Laptop - 14th Gen Intel Core i9-14900HX (24-Core) - GeForce RTX 4060, 8GB – 2.5K (2560 x 1600) 240Hz Display - Windows 11', 'price': '$1,899.99', 'rating': '(93)'}, {'name': 'MSI Katana A15 15.6\" Gaming Laptop - AMD Ryzen 7-8845HS - GeForce RTX 4060, 8GB - FHD (1920 X 1080) - Windows 11', 'price': '$1,199.99', 'rating': '(11)'}, {'name': 'MSI Sword 16HX 16\" Gaming Laptop - 14th Gen Intel Core i7-14650HX - GeForce RTX 4060 - FHD+ (1920 X 1200) 144Hz - Windows 11', 'price': '$1,199.99', 'rating': '(10)'}]\n",
      "[{'name': 'HP OMEN 16.1\" Gaming Laptop - 14th Gen Intel Core i7-14650HX - GeForce RTX 4060 - 144HZ 1080p - Windows 11', 'price': '$1,299.99', 'rating': '(27)'}, {'name': 'Lenovo LEGION 5i 16\" Gaming Laptop - 14th Gen Intel Core i9-14900HX - GeForce RTX 4060 - 165Hz 2560 x 1600', 'price': '$1,299.99', 'rating': '(87)'}, {'name': 'MSI Raider 18 HX 18\" Gaming Laptop - 14th Gen Intel Core i9-14900HX - GeForce RTX 4080 - QHD+ (2560 X 1600) 240 Hz - Windows 11', 'price': '$2,399.99', 'rating': '(24)'}, {'name': 'ASUS ROG Strix G18 18\" Gaming Laptop - 14th Gen Intel Core i9-14900HX (24-Core) - GeForce RTX 4060, 8GB – 2.5K (2560 x 1600) 240Hz Display - Windows 11', 'price': '$1,899.99', 'rating': '(93)'}, {'name': 'MSI Katana A15 15.6\" Gaming Laptop - AMD Ryzen 7-8845HS - GeForce RTX 4060, 8GB - FHD (1920 X 1080) - Windows 11', 'price': '$1,199.99', 'rating': '(11)'}, {'name': 'MSI Sword 16HX 16\" Gaming Laptop - 14th Gen Intel Core i7-14650HX - GeForce RTX 4060 - FHD+ (1920 X 1200) 144Hz - Windows 11', 'price': '$1,199.99', 'rating': '(10)'}, {'name': 'MSI Claw 7\" Gaming Handheld Bundle - Intel Core Ultra 7 Processor 155H - 120Hz FHD (1920 x 1080) - Windows 11', 'price': '$629.97', 'rating': '(4)'}]\n",
      "[{'name': 'HP OMEN 16.1\" Gaming Laptop - 14th Gen Intel Core i7-14650HX - GeForce RTX 4060 - 144HZ 1080p - Windows 11', 'price': '$1,299.99', 'rating': '(27)'}, {'name': 'Lenovo LEGION 5i 16\" Gaming Laptop - 14th Gen Intel Core i9-14900HX - GeForce RTX 4060 - 165Hz 2560 x 1600', 'price': '$1,299.99', 'rating': '(87)'}, {'name': 'MSI Raider 18 HX 18\" Gaming Laptop - 14th Gen Intel Core i9-14900HX - GeForce RTX 4080 - QHD+ (2560 X 1600) 240 Hz - Windows 11', 'price': '$2,399.99', 'rating': '(24)'}, {'name': 'ASUS ROG Strix G18 18\" Gaming Laptop - 14th Gen Intel Core i9-14900HX (24-Core) - GeForce RTX 4060, 8GB – 2.5K (2560 x 1600) 240Hz Display - Windows 11', 'price': '$1,899.99', 'rating': '(93)'}, {'name': 'MSI Katana A15 15.6\" Gaming Laptop - AMD Ryzen 7-8845HS - GeForce RTX 4060, 8GB - FHD (1920 X 1080) - Windows 11', 'price': '$1,199.99', 'rating': '(11)'}, {'name': 'MSI Sword 16HX 16\" Gaming Laptop - 14th Gen Intel Core i7-14650HX - GeForce RTX 4060 - FHD+ (1920 X 1200) 144Hz - Windows 11', 'price': '$1,199.99', 'rating': '(10)'}, {'name': 'MSI Claw 7\" Gaming Handheld Bundle - Intel Core Ultra 7 Processor 155H - 120Hz FHD (1920 x 1080) - Windows 11', 'price': '$629.97', 'rating': '(4)'}, {'name': 'MSI Katana A17 17.3\" Gaming Laptop - AMD Ryzen 7-8845HS - GeForce RTX 4070, 8GB - Windows 11', 'price': '$1,399.99', 'rating': '(0)'}]\n",
      "[{'name': 'HP OMEN 16.1\" Gaming Laptop - 14th Gen Intel Core i7-14650HX - GeForce RTX 4060 - 144HZ 1080p - Windows 11', 'price': '$1,299.99', 'rating': '(27)'}, {'name': 'Lenovo LEGION 5i 16\" Gaming Laptop - 14th Gen Intel Core i9-14900HX - GeForce RTX 4060 - 165Hz 2560 x 1600', 'price': '$1,299.99', 'rating': '(87)'}, {'name': 'MSI Raider 18 HX 18\" Gaming Laptop - 14th Gen Intel Core i9-14900HX - GeForce RTX 4080 - QHD+ (2560 X 1600) 240 Hz - Windows 11', 'price': '$2,399.99', 'rating': '(24)'}, {'name': 'ASUS ROG Strix G18 18\" Gaming Laptop - 14th Gen Intel Core i9-14900HX (24-Core) - GeForce RTX 4060, 8GB – 2.5K (2560 x 1600) 240Hz Display - Windows 11', 'price': '$1,899.99', 'rating': '(93)'}, {'name': 'MSI Katana A15 15.6\" Gaming Laptop - AMD Ryzen 7-8845HS - GeForce RTX 4060, 8GB - FHD (1920 X 1080) - Windows 11', 'price': '$1,199.99', 'rating': '(11)'}, {'name': 'MSI Sword 16HX 16\" Gaming Laptop - 14th Gen Intel Core i7-14650HX - GeForce RTX 4060 - FHD+ (1920 X 1200) 144Hz - Windows 11', 'price': '$1,199.99', 'rating': '(10)'}, {'name': 'MSI Claw 7\" Gaming Handheld Bundle - Intel Core Ultra 7 Processor 155H - 120Hz FHD (1920 x 1080) - Windows 11', 'price': '$629.97', 'rating': '(4)'}, {'name': 'MSI Katana A17 17.3\" Gaming Laptop - AMD Ryzen 7-8845HS - GeForce RTX 4070, 8GB - Windows 11', 'price': '$1,399.99', 'rating': '(0)'}, {'name': 'MSI Raider 18 HX 18\" Gaming Laptop - 14th Gen Intel Core i9-14900HX - GeForce RTX 4090 - QHD+ (2560\\xa0X 1600) 240Hz - Windows 11', 'price': '$2,999.99', 'rating': '(0)'}]\n"
     ]
    }
   ],
   "source": [
    "data = []\n",
    "for product in products:\n",
    "    data.append({\n",
    "        \"name\":extract_text(product,\".description\").strip(),\n",
    "        \"price\":extract_text(product,\".price\").strip(),\n",
    "        \"rating\": extract_text(product,\".ratings-number\").strip(),\n",
    "    })\n",
    "    print(data)"
   ]
  },
  {
   "cell_type": "code",
   "execution_count": 25,
   "id": "ebd95bad-45dc-4941-8a72-ea7f9df580b7",
   "metadata": {},
   "outputs": [
    {
     "data": {
      "text/html": [
       "<div>\n",
       "<style scoped>\n",
       "    .dataframe tbody tr th:only-of-type {\n",
       "        vertical-align: middle;\n",
       "    }\n",
       "\n",
       "    .dataframe tbody tr th {\n",
       "        vertical-align: top;\n",
       "    }\n",
       "\n",
       "    .dataframe thead th {\n",
       "        text-align: right;\n",
       "    }\n",
       "</style>\n",
       "<table border=\"1\" class=\"dataframe\">\n",
       "  <thead>\n",
       "    <tr style=\"text-align: right;\">\n",
       "      <th></th>\n",
       "      <th>name</th>\n",
       "      <th>price</th>\n",
       "      <th>rating</th>\n",
       "    </tr>\n",
       "  </thead>\n",
       "  <tbody>\n",
       "    <tr>\n",
       "      <th>0</th>\n",
       "      <td>HP OMEN 16.1\" Gaming Laptop - 14th Gen Intel C...</td>\n",
       "      <td>$1,299.99</td>\n",
       "      <td>(27)</td>\n",
       "    </tr>\n",
       "    <tr>\n",
       "      <th>1</th>\n",
       "      <td>Lenovo LEGION 5i 16\" Gaming Laptop - 14th Gen ...</td>\n",
       "      <td>$1,299.99</td>\n",
       "      <td>(87)</td>\n",
       "    </tr>\n",
       "    <tr>\n",
       "      <th>2</th>\n",
       "      <td>MSI Raider 18 HX 18\" Gaming Laptop - 14th Gen ...</td>\n",
       "      <td>$2,399.99</td>\n",
       "      <td>(24)</td>\n",
       "    </tr>\n",
       "    <tr>\n",
       "      <th>3</th>\n",
       "      <td>ASUS ROG Strix G18 18\" Gaming Laptop - 14th Ge...</td>\n",
       "      <td>$1,899.99</td>\n",
       "      <td>(93)</td>\n",
       "    </tr>\n",
       "    <tr>\n",
       "      <th>4</th>\n",
       "      <td>MSI Katana A15 15.6\" Gaming Laptop - AMD Ryzen...</td>\n",
       "      <td>$1,199.99</td>\n",
       "      <td>(11)</td>\n",
       "    </tr>\n",
       "    <tr>\n",
       "      <th>5</th>\n",
       "      <td>MSI Sword 16HX 16\" Gaming Laptop - 14th Gen In...</td>\n",
       "      <td>$1,199.99</td>\n",
       "      <td>(10)</td>\n",
       "    </tr>\n",
       "    <tr>\n",
       "      <th>6</th>\n",
       "      <td>MSI Claw 7\" Gaming Handheld Bundle - Intel Cor...</td>\n",
       "      <td>$629.97</td>\n",
       "      <td>(4)</td>\n",
       "    </tr>\n",
       "    <tr>\n",
       "      <th>7</th>\n",
       "      <td>MSI Katana A17 17.3\" Gaming Laptop - AMD Ryzen...</td>\n",
       "      <td>$1,399.99</td>\n",
       "      <td>(0)</td>\n",
       "    </tr>\n",
       "    <tr>\n",
       "      <th>8</th>\n",
       "      <td>MSI Raider 18 HX 18\" Gaming Laptop - 14th Gen ...</td>\n",
       "      <td>$2,999.99</td>\n",
       "      <td>(0)</td>\n",
       "    </tr>\n",
       "  </tbody>\n",
       "</table>\n",
       "</div>"
      ],
      "text/plain": [
       "                                                name      price rating\n",
       "0  HP OMEN 16.1\" Gaming Laptop - 14th Gen Intel C...  $1,299.99   (27)\n",
       "1  Lenovo LEGION 5i 16\" Gaming Laptop - 14th Gen ...  $1,299.99   (87)\n",
       "2  MSI Raider 18 HX 18\" Gaming Laptop - 14th Gen ...  $2,399.99   (24)\n",
       "3  ASUS ROG Strix G18 18\" Gaming Laptop - 14th Ge...  $1,899.99   (93)\n",
       "4  MSI Katana A15 15.6\" Gaming Laptop - AMD Ryzen...  $1,199.99   (11)\n",
       "5  MSI Sword 16HX 16\" Gaming Laptop - 14th Gen In...  $1,199.99   (10)\n",
       "6  MSI Claw 7\" Gaming Handheld Bundle - Intel Cor...    $629.97    (4)\n",
       "7  MSI Katana A17 17.3\" Gaming Laptop - AMD Ryzen...  $1,399.99    (0)\n",
       "8  MSI Raider 18 HX 18\" Gaming Laptop - 14th Gen ...  $2,999.99    (0)"
      ]
     },
     "execution_count": 25,
     "metadata": {},
     "output_type": "execute_result"
    }
   ],
   "source": [
    "nb = pd.DataFrame(data, columns=['name','price','rating'])\n",
    "nb"
   ]
  },
  {
   "cell_type": "code",
   "execution_count": null,
   "id": "572d3860-f821-4fac-8e20-114416b39bd1",
   "metadata": {},
   "outputs": [],
   "source": []
  },
  {
   "cell_type": "markdown",
   "id": "666eb71f-a8eb-479e-9b2d-152f7562522e",
   "metadata": {},
   "source": [
    "## GM"
   ]
  },
  {
   "cell_type": "code",
   "execution_count": 26,
   "id": "fbafacdd-c412-4047-8bc4-2bd4d29ba41c",
   "metadata": {},
   "outputs": [],
   "source": [
    "url = \"https://www.costco.com/monitors.html?features=gaming&refine=||Features_attr-Gaming\""
   ]
  },
  {
   "cell_type": "code",
   "execution_count": 27,
   "id": "36e685fc-f262-45a5-b059-8d0adbf557db",
   "metadata": {},
   "outputs": [],
   "source": [
    "headers = {'User-Agent': 'Mozilla/5.0 (Windows NT 10.0; Win64; x64) AppleWebKit/537.36 (KHTML, like Gecko) Chrome/127.0.0.0 Safari/537.36 Edg/127.0.0.0'}"
   ]
  },
  {
   "cell_type": "code",
   "execution_count": 28,
   "id": "80cf911a-8c64-4edd-8299-d7971e8c41d0",
   "metadata": {},
   "outputs": [
    {
     "name": "stdout",
     "output_type": "stream",
     "text": [
      "<Response [200 OK]>\n"
     ]
    }
   ],
   "source": [
    "resp = httpx.get(url,headers=headers)\n",
    "print(resp)"
   ]
  },
  {
   "cell_type": "code",
   "execution_count": 29,
   "id": "73d80160-014c-438d-b15f-86053594360d",
   "metadata": {},
   "outputs": [],
   "source": [
    "def extract_text(html,sel):\n",
    "    try: \n",
    "        return html.css_first(sel).text()\n",
    "    except AtrributeError:\n",
    "        return None"
   ]
  },
  {
   "cell_type": "code",
   "execution_count": 30,
   "id": "458f6e13-12b2-4df8-a9d5-3f908cdceaf0",
   "metadata": {},
   "outputs": [
    {
     "name": "stdout",
     "output_type": "stream",
     "text": [
      "<built-in method text of selectolax.parser.Node object at 0x00000155A2183480>\n"
     ]
    }
   ],
   "source": [
    "html = HTMLParser(resp.text)\n",
    "print(html.css_first(\"title\").text)"
   ]
  },
  {
   "cell_type": "code",
   "execution_count": 31,
   "id": "673de180-0543-4b34-83ed-86dccff2588d",
   "metadata": {},
   "outputs": [
    {
     "name": "stdout",
     "output_type": "stream",
     "text": [
      "[<Node div>, <Node div>, <Node div>, <Node div>, <Node div>, <Node div>, <Node div>, <Node div>, <Node div>, <Node div>, <Node div>, <Node div>]\n"
     ]
    }
   ],
   "source": [
    "products = html.css(\"div.thumbnail\")\n",
    "print(products)"
   ]
  },
  {
   "cell_type": "code",
   "execution_count": 32,
   "id": "6a7da3c2-6c39-4ed8-91b1-08d5c01bf24d",
   "metadata": {},
   "outputs": [
    {
     "name": "stdout",
     "output_type": "stream",
     "text": [
      "[{'name': 'MSI 27\" WQHD IPS Nvidia G-Sync Gaming Monitor', 'price': '$159.99', 'rating': '(109)'}]\n",
      "[{'name': 'MSI 27\" WQHD IPS Nvidia G-Sync Gaming Monitor', 'price': '$159.99', 'rating': '(109)'}, {'name': 'Samsung 32\" Class ViewFinity UJ59 4K UHD Monitor', 'price': '$279.99', 'rating': '(6)'}]\n",
      "[{'name': 'MSI 27\" WQHD IPS Nvidia G-Sync Gaming Monitor', 'price': '$159.99', 'rating': '(109)'}, {'name': 'Samsung 32\" Class ViewFinity UJ59 4K UHD Monitor', 'price': '$279.99', 'rating': '(6)'}, {'name': 'LG UltraGear 27\" Class QHD IPS Gaming Monitor', 'price': '$199.99', 'rating': '(162)'}]\n",
      "[{'name': 'MSI 27\" WQHD IPS Nvidia G-Sync Gaming Monitor', 'price': '$159.99', 'rating': '(109)'}, {'name': 'Samsung 32\" Class ViewFinity UJ59 4K UHD Monitor', 'price': '$279.99', 'rating': '(6)'}, {'name': 'LG UltraGear 27\" Class QHD IPS Gaming Monitor', 'price': '$199.99', 'rating': '(162)'}, {'name': 'Acer Nitro 31.5” Class WQHD Curved Gaming Monitor', 'price': '$229.99', 'rating': '(40)'}]\n",
      "[{'name': 'MSI 27\" WQHD IPS Nvidia G-Sync Gaming Monitor', 'price': '$159.99', 'rating': '(109)'}, {'name': 'Samsung 32\" Class ViewFinity UJ59 4K UHD Monitor', 'price': '$279.99', 'rating': '(6)'}, {'name': 'LG UltraGear 27\" Class QHD IPS Gaming Monitor', 'price': '$199.99', 'rating': '(162)'}, {'name': 'Acer Nitro 31.5” Class WQHD Curved Gaming Monitor', 'price': '$229.99', 'rating': '(40)'}, {'name': 'Samsung 34\" Class UWQHD Odyssey OLED G8 Curved Gaming Monitor', 'price': '$849.99', 'rating': '(2)'}]\n",
      "[{'name': 'MSI 27\" WQHD IPS Nvidia G-Sync Gaming Monitor', 'price': '$159.99', 'rating': '(109)'}, {'name': 'Samsung 32\" Class ViewFinity UJ59 4K UHD Monitor', 'price': '$279.99', 'rating': '(6)'}, {'name': 'LG UltraGear 27\" Class QHD IPS Gaming Monitor', 'price': '$199.99', 'rating': '(162)'}, {'name': 'Acer Nitro 31.5” Class WQHD Curved Gaming Monitor', 'price': '$229.99', 'rating': '(40)'}, {'name': 'Samsung 34\" Class UWQHD Odyssey OLED G8 Curved Gaming Monitor', 'price': '$849.99', 'rating': '(2)'}, {'name': 'Acer Nitro 34\" Class UWQHD Curved Gaming Monitor', 'price': '$299.99', 'rating': '(216)'}]\n",
      "[{'name': 'MSI 27\" WQHD IPS Nvidia G-Sync Gaming Monitor', 'price': '$159.99', 'rating': '(109)'}, {'name': 'Samsung 32\" Class ViewFinity UJ59 4K UHD Monitor', 'price': '$279.99', 'rating': '(6)'}, {'name': 'LG UltraGear 27\" Class QHD IPS Gaming Monitor', 'price': '$199.99', 'rating': '(162)'}, {'name': 'Acer Nitro 31.5” Class WQHD Curved Gaming Monitor', 'price': '$229.99', 'rating': '(40)'}, {'name': 'Samsung 34\" Class UWQHD Odyssey OLED G8 Curved Gaming Monitor', 'price': '$849.99', 'rating': '(2)'}, {'name': 'Acer Nitro 34\" Class UWQHD Curved Gaming Monitor', 'price': '$299.99', 'rating': '(216)'}, {'name': 'Acer Nitro 27” Class FHD Curved Gaming Monitor', 'price': '$129.99', 'rating': '(63)'}]\n",
      "[{'name': 'MSI 27\" WQHD IPS Nvidia G-Sync Gaming Monitor', 'price': '$159.99', 'rating': '(109)'}, {'name': 'Samsung 32\" Class ViewFinity UJ59 4K UHD Monitor', 'price': '$279.99', 'rating': '(6)'}, {'name': 'LG UltraGear 27\" Class QHD IPS Gaming Monitor', 'price': '$199.99', 'rating': '(162)'}, {'name': 'Acer Nitro 31.5” Class WQHD Curved Gaming Monitor', 'price': '$229.99', 'rating': '(40)'}, {'name': 'Samsung 34\" Class UWQHD Odyssey OLED G8 Curved Gaming Monitor', 'price': '$849.99', 'rating': '(2)'}, {'name': 'Acer Nitro 34\" Class UWQHD Curved Gaming Monitor', 'price': '$299.99', 'rating': '(216)'}, {'name': 'Acer Nitro 27” Class FHD Curved Gaming Monitor', 'price': '$129.99', 'rating': '(63)'}, {'name': 'LG 32” Class UltraGear UHD OLED Gaming Monitor, $150 Digital Credit Included', 'price': '$1,399.99', 'rating': '(0)'}]\n",
      "[{'name': 'MSI 27\" WQHD IPS Nvidia G-Sync Gaming Monitor', 'price': '$159.99', 'rating': '(109)'}, {'name': 'Samsung 32\" Class ViewFinity UJ59 4K UHD Monitor', 'price': '$279.99', 'rating': '(6)'}, {'name': 'LG UltraGear 27\" Class QHD IPS Gaming Monitor', 'price': '$199.99', 'rating': '(162)'}, {'name': 'Acer Nitro 31.5” Class WQHD Curved Gaming Monitor', 'price': '$229.99', 'rating': '(40)'}, {'name': 'Samsung 34\" Class UWQHD Odyssey OLED G8 Curved Gaming Monitor', 'price': '$849.99', 'rating': '(2)'}, {'name': 'Acer Nitro 34\" Class UWQHD Curved Gaming Monitor', 'price': '$299.99', 'rating': '(216)'}, {'name': 'Acer Nitro 27” Class FHD Curved Gaming Monitor', 'price': '$129.99', 'rating': '(63)'}, {'name': 'LG 32” Class UltraGear UHD OLED Gaming Monitor, $150 Digital Credit Included', 'price': '$1,399.99', 'rating': '(0)'}, {'name': 'LG UltraGear 49\" Class DQHD Curved Gaming Monitor', 'price': '$899.99', 'rating': '(36)'}]\n",
      "[{'name': 'MSI 27\" WQHD IPS Nvidia G-Sync Gaming Monitor', 'price': '$159.99', 'rating': '(109)'}, {'name': 'Samsung 32\" Class ViewFinity UJ59 4K UHD Monitor', 'price': '$279.99', 'rating': '(6)'}, {'name': 'LG UltraGear 27\" Class QHD IPS Gaming Monitor', 'price': '$199.99', 'rating': '(162)'}, {'name': 'Acer Nitro 31.5” Class WQHD Curved Gaming Monitor', 'price': '$229.99', 'rating': '(40)'}, {'name': 'Samsung 34\" Class UWQHD Odyssey OLED G8 Curved Gaming Monitor', 'price': '$849.99', 'rating': '(2)'}, {'name': 'Acer Nitro 34\" Class UWQHD Curved Gaming Monitor', 'price': '$299.99', 'rating': '(216)'}, {'name': 'Acer Nitro 27” Class FHD Curved Gaming Monitor', 'price': '$129.99', 'rating': '(63)'}, {'name': 'LG 32” Class UltraGear UHD OLED Gaming Monitor, $150 Digital Credit Included', 'price': '$1,399.99', 'rating': '(0)'}, {'name': 'LG UltraGear 49\" Class DQHD Curved Gaming Monitor', 'price': '$899.99', 'rating': '(36)'}, {'name': 'Acer 27” Class WQHD Curved Gaming Monitor', 'price': '$199.99', 'rating': '(158)'}]\n",
      "[{'name': 'MSI 27\" WQHD IPS Nvidia G-Sync Gaming Monitor', 'price': '$159.99', 'rating': '(109)'}, {'name': 'Samsung 32\" Class ViewFinity UJ59 4K UHD Monitor', 'price': '$279.99', 'rating': '(6)'}, {'name': 'LG UltraGear 27\" Class QHD IPS Gaming Monitor', 'price': '$199.99', 'rating': '(162)'}, {'name': 'Acer Nitro 31.5” Class WQHD Curved Gaming Monitor', 'price': '$229.99', 'rating': '(40)'}, {'name': 'Samsung 34\" Class UWQHD Odyssey OLED G8 Curved Gaming Monitor', 'price': '$849.99', 'rating': '(2)'}, {'name': 'Acer Nitro 34\" Class UWQHD Curved Gaming Monitor', 'price': '$299.99', 'rating': '(216)'}, {'name': 'Acer Nitro 27” Class FHD Curved Gaming Monitor', 'price': '$129.99', 'rating': '(63)'}, {'name': 'LG 32” Class UltraGear UHD OLED Gaming Monitor, $150 Digital Credit Included', 'price': '$1,399.99', 'rating': '(0)'}, {'name': 'LG UltraGear 49\" Class DQHD Curved Gaming Monitor', 'price': '$899.99', 'rating': '(36)'}, {'name': 'Acer 27” Class WQHD Curved Gaming Monitor', 'price': '$199.99', 'rating': '(158)'}, {'name': 'Samsung Odyssey 27” Class G55C Series QHD Curved Gaming Monitor', 'price': '$229.99', 'rating': '(5)'}]\n",
      "[{'name': 'MSI 27\" WQHD IPS Nvidia G-Sync Gaming Monitor', 'price': '$159.99', 'rating': '(109)'}, {'name': 'Samsung 32\" Class ViewFinity UJ59 4K UHD Monitor', 'price': '$279.99', 'rating': '(6)'}, {'name': 'LG UltraGear 27\" Class QHD IPS Gaming Monitor', 'price': '$199.99', 'rating': '(162)'}, {'name': 'Acer Nitro 31.5” Class WQHD Curved Gaming Monitor', 'price': '$229.99', 'rating': '(40)'}, {'name': 'Samsung 34\" Class UWQHD Odyssey OLED G8 Curved Gaming Monitor', 'price': '$849.99', 'rating': '(2)'}, {'name': 'Acer Nitro 34\" Class UWQHD Curved Gaming Monitor', 'price': '$299.99', 'rating': '(216)'}, {'name': 'Acer Nitro 27” Class FHD Curved Gaming Monitor', 'price': '$129.99', 'rating': '(63)'}, {'name': 'LG 32” Class UltraGear UHD OLED Gaming Monitor, $150 Digital Credit Included', 'price': '$1,399.99', 'rating': '(0)'}, {'name': 'LG UltraGear 49\" Class DQHD Curved Gaming Monitor', 'price': '$899.99', 'rating': '(36)'}, {'name': 'Acer 27” Class WQHD Curved Gaming Monitor', 'price': '$199.99', 'rating': '(158)'}, {'name': 'Samsung Odyssey 27” Class G55C Series QHD Curved Gaming Monitor', 'price': '$229.99', 'rating': '(5)'}, {'name': 'Samsung 49\" Class Odyssey G95C DQHD 240Hz Curved Gaming Monitor', 'price': '$899.99', 'rating': '(7)'}]\n"
     ]
    }
   ],
   "source": [
    "data = []\n",
    "for product in products:\n",
    "    data.append({\n",
    "        \"name\":extract_text(product,\".description\").strip(),\n",
    "        \"price\":extract_text(product,\".price\").strip(),\n",
    "        \"rating\": extract_text(product,\".ratings-number\").strip(),\n",
    "    })\n",
    "    print(data)"
   ]
  },
  {
   "cell_type": "code",
   "execution_count": 33,
   "id": "c7c176ad-6463-469b-a090-f6688b04efd7",
   "metadata": {},
   "outputs": [
    {
     "data": {
      "text/html": [
       "<div>\n",
       "<style scoped>\n",
       "    .dataframe tbody tr th:only-of-type {\n",
       "        vertical-align: middle;\n",
       "    }\n",
       "\n",
       "    .dataframe tbody tr th {\n",
       "        vertical-align: top;\n",
       "    }\n",
       "\n",
       "    .dataframe thead th {\n",
       "        text-align: right;\n",
       "    }\n",
       "</style>\n",
       "<table border=\"1\" class=\"dataframe\">\n",
       "  <thead>\n",
       "    <tr style=\"text-align: right;\">\n",
       "      <th></th>\n",
       "      <th>name</th>\n",
       "      <th>price</th>\n",
       "      <th>rating</th>\n",
       "    </tr>\n",
       "  </thead>\n",
       "  <tbody>\n",
       "    <tr>\n",
       "      <th>0</th>\n",
       "      <td>MSI 27\" WQHD IPS Nvidia G-Sync Gaming Monitor</td>\n",
       "      <td>$159.99</td>\n",
       "      <td>(109)</td>\n",
       "    </tr>\n",
       "    <tr>\n",
       "      <th>1</th>\n",
       "      <td>Samsung 32\" Class ViewFinity UJ59 4K UHD Monitor</td>\n",
       "      <td>$279.99</td>\n",
       "      <td>(6)</td>\n",
       "    </tr>\n",
       "    <tr>\n",
       "      <th>2</th>\n",
       "      <td>LG UltraGear 27\" Class QHD IPS Gaming Monitor</td>\n",
       "      <td>$199.99</td>\n",
       "      <td>(162)</td>\n",
       "    </tr>\n",
       "    <tr>\n",
       "      <th>3</th>\n",
       "      <td>Acer Nitro 31.5” Class WQHD Curved Gaming Monitor</td>\n",
       "      <td>$229.99</td>\n",
       "      <td>(40)</td>\n",
       "    </tr>\n",
       "    <tr>\n",
       "      <th>4</th>\n",
       "      <td>Samsung 34\" Class UWQHD Odyssey OLED G8 Curved...</td>\n",
       "      <td>$849.99</td>\n",
       "      <td>(2)</td>\n",
       "    </tr>\n",
       "    <tr>\n",
       "      <th>5</th>\n",
       "      <td>Acer Nitro 34\" Class UWQHD Curved Gaming Monitor</td>\n",
       "      <td>$299.99</td>\n",
       "      <td>(216)</td>\n",
       "    </tr>\n",
       "    <tr>\n",
       "      <th>6</th>\n",
       "      <td>Acer Nitro 27” Class FHD Curved Gaming Monitor</td>\n",
       "      <td>$129.99</td>\n",
       "      <td>(63)</td>\n",
       "    </tr>\n",
       "    <tr>\n",
       "      <th>7</th>\n",
       "      <td>LG 32” Class UltraGear UHD OLED Gaming Monitor...</td>\n",
       "      <td>$1,399.99</td>\n",
       "      <td>(0)</td>\n",
       "    </tr>\n",
       "    <tr>\n",
       "      <th>8</th>\n",
       "      <td>LG UltraGear 49\" Class DQHD Curved Gaming Monitor</td>\n",
       "      <td>$899.99</td>\n",
       "      <td>(36)</td>\n",
       "    </tr>\n",
       "    <tr>\n",
       "      <th>9</th>\n",
       "      <td>Acer 27” Class WQHD Curved Gaming Monitor</td>\n",
       "      <td>$199.99</td>\n",
       "      <td>(158)</td>\n",
       "    </tr>\n",
       "    <tr>\n",
       "      <th>10</th>\n",
       "      <td>Samsung Odyssey 27” Class G55C Series QHD Curv...</td>\n",
       "      <td>$229.99</td>\n",
       "      <td>(5)</td>\n",
       "    </tr>\n",
       "    <tr>\n",
       "      <th>11</th>\n",
       "      <td>Samsung 49\" Class Odyssey G95C DQHD 240Hz Curv...</td>\n",
       "      <td>$899.99</td>\n",
       "      <td>(7)</td>\n",
       "    </tr>\n",
       "  </tbody>\n",
       "</table>\n",
       "</div>"
      ],
      "text/plain": [
       "                                                 name      price rating\n",
       "0       MSI 27\" WQHD IPS Nvidia G-Sync Gaming Monitor    $159.99  (109)\n",
       "1    Samsung 32\" Class ViewFinity UJ59 4K UHD Monitor    $279.99    (6)\n",
       "2       LG UltraGear 27\" Class QHD IPS Gaming Monitor    $199.99  (162)\n",
       "3   Acer Nitro 31.5” Class WQHD Curved Gaming Monitor    $229.99   (40)\n",
       "4   Samsung 34\" Class UWQHD Odyssey OLED G8 Curved...    $849.99    (2)\n",
       "5    Acer Nitro 34\" Class UWQHD Curved Gaming Monitor    $299.99  (216)\n",
       "6      Acer Nitro 27” Class FHD Curved Gaming Monitor    $129.99   (63)\n",
       "7   LG 32” Class UltraGear UHD OLED Gaming Monitor...  $1,399.99    (0)\n",
       "8   LG UltraGear 49\" Class DQHD Curved Gaming Monitor    $899.99   (36)\n",
       "9           Acer 27” Class WQHD Curved Gaming Monitor    $199.99  (158)\n",
       "10  Samsung Odyssey 27” Class G55C Series QHD Curv...    $229.99    (5)\n",
       "11  Samsung 49\" Class Odyssey G95C DQHD 240Hz Curv...    $899.99    (7)"
      ]
     },
     "execution_count": 33,
     "metadata": {},
     "output_type": "execute_result"
    }
   ],
   "source": [
    "gm = pd.DataFrame(data, columns=['name','price','rating'])\n",
    "gm"
   ]
  },
  {
   "cell_type": "code",
   "execution_count": null,
   "id": "f967c3cd-4c27-4a81-930f-387e21105d68",
   "metadata": {},
   "outputs": [],
   "source": []
  },
  {
   "cell_type": "markdown",
   "id": "1fe77ebb-58e0-41a4-bc0e-b57e98b03ea4",
   "metadata": {},
   "source": [
    "## CSV "
   ]
  },
  {
   "cell_type": "code",
   "execution_count": 34,
   "id": "74511237-8395-47a2-b500-447a8c7b021d",
   "metadata": {},
   "outputs": [],
   "source": [
    "#pip install xlsxwriter"
   ]
  },
  {
   "cell_type": "code",
   "execution_count": 26,
   "id": "6236fe94-e160-4c1c-8074-d9b9ca1e73e6",
   "metadata": {},
   "outputs": [],
   "source": [
    "import xlsxwriter"
   ]
  },
  {
   "cell_type": "code",
   "execution_count": 28,
   "id": "97e3a4e9-a8f1-4c3c-8cce-9eff22863ddf",
   "metadata": {},
   "outputs": [],
   "source": [
    "with pd.ExcelWriter('CostcoWK41-Combined.xlsx') as writer:\n",
    "    ultracore.to_excel(writer, sheet_name='ultracore')\n",
    "    dt.to_excel(writer, sheet_name='DT')\n",
    "    nb.to_excel(writer, sheet_name='NB')\n",
    "    #gm.to_excel(writer, sheet_name='GM')"
   ]
  },
  {
   "cell_type": "code",
   "execution_count": null,
   "id": "7a030475-6e3b-4ac9-b983-398e5e146ebf",
   "metadata": {},
   "outputs": [],
   "source": []
  }
 ],
 "metadata": {
  "kernelspec": {
   "display_name": "Python 3 (ipykernel)",
   "language": "python",
   "name": "python3"
  },
  "language_info": {
   "codemirror_mode": {
    "name": "ipython",
    "version": 3
   },
   "file_extension": ".py",
   "mimetype": "text/x-python",
   "name": "python",
   "nbconvert_exporter": "python",
   "pygments_lexer": "ipython3",
   "version": "3.12.5"
  }
 },
 "nbformat": 4,
 "nbformat_minor": 5
}
